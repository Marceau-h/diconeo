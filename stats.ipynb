{
 "cells": [
  {
   "cell_type": "code",
   "execution_count": 1,
   "metadata": {
    "collapsed": true,
    "ExecuteTime": {
     "start_time": "2023-04-12T16:45:37.135666Z",
     "end_time": "2023-04-12T16:45:37.135998Z"
    }
   },
   "outputs": [],
   "source": [
    "import re\n",
    "\n",
    "import lyrics as ly\n",
    "import json\n",
    "from pathlib import Path\n"
   ]
  },
  {
   "cell_type": "code",
   "execution_count": 2,
   "outputs": [
    {
     "data": {
      "text/plain": "{<Song Freestyle téléphoné by Vald>,\n <Song Paradoxe by Vald>,\n <Song Freestyle Daymolition (27 août 2011) by Vald>,\n <Song Freestyle Daymolition A capella by Vald>,\n <Song Freestyle Daymolition by Vald>,\n <Song Poésie moderne by Vald>,\n <Song CQFD by Vald>,\n <Song Journal perso by Vald>,\n <Song Branleur by Vald>,\n <Song Deuspi by Vald (Ft. Suikon Blaz AD)>,\n <Song Elyxir by Vald (Ft. Georgio)>,\n <Song Fado by Vald>,\n <Song Gouaould by Vald>,\n <Song Guedin by Vald>,\n <Song Interlude by Vald>,\n <Song J'ai rêvé d'un verre de sang by Vald>,\n <Song Lalala by Vald>,\n <Song Lettre à Élise by Vald>,\n <Song Lune by Vald>,\n <Song Métafion by Vald (Ft. Suikon Blaz AD)>,\n <Song Pas grave by Vald>,\n <Song Rockstar by Vald>,\n <Song Smiley by Vald>,\n <Song Surprise by Vald>,\n <Song Teh stylé by Vald>,\n <Song Winston by Vald>,\n <Song Évoluchienne by Vald>,\n <Song Freestyle séquestration by Vald (Ft. Georgio)>,\n <Song Freestyle by Vald (Ft. Georgio)>,\n <Song Rendez-moi by Vald (Ft. Suikon Blaz AD)>,\n <Song Vald freestyle Daymolition 07/07/2012 by Vald>,\n <Song La Comptine de Sullyvan (Interlude) by Vald (Ft. Suikon Blaz AD)>,\n <Song Mon présent by Vald (Ft. Suikon Blaz AD)>,\n <Song Adulez-moi by Vald>,\n <Song Ass propos by Vald (Ft. Suikon Blaz AD)>,\n <Song Bukkake by Vald>,\n <Song Donkey punch by Vald>,\n <Song Encore by Vald>,\n <Song J'ai vu by Vald (Ft. Suikon Blaz AD)>,\n <Song John Doe by Vald (Ft. Suikon Blaz AD)>,\n <Song La ive by Vald (Ft. Georgio)>,\n <Song NQNT by Vald (Ft. Suikon Blaz AD)>,\n <Song Nique le bordel by Vald>,\n <Song Pour si peu by Vald (Ft. Rabakar)>,\n <Song Que fait la police by Vald (Ft. Suikon Blaz AD)>,\n <Song Spirale by Vald>,\n <Song V.A.L.S.E by Vald>,\n <Song Épices loufoques by Vald (Ft. Georgio)>,\n <Song Le divan by Vald>,\n <Song Autiste by Vald>,\n <Song Gusta me Freestyle by Vald>,\n <Song Shoote un ministre by Vald>,\n <Song Maizena by Vald (Ft. I.N.C.H., Kro & Suikon Blaz AD)>,\n <Song FREENQNT by Vald>,\n <Song Par toutatis by Vald>,\n <Song I.N.C.H BEATS by Vald>,\n <Song Aulnay-sous-Bois by Vald>,\n <Song C'est pour by Vald>,\n <Song Elle me regarde by Vald>,\n <Song Flowjob by Vald (Ft. Suikon Blaz AD)>,\n <Song Horrible by Vald>,\n <Song NQNT [Livret] by Vald>,\n <Song PF by Vald>,\n <Song Sullyvan by Vald>,\n <Song Vie de cochon by Vald>,\n <Song Freestyle Booska NQNT by Vald>,\n <Song Freestyle Abcdrduson by Vald>,\n <Song Gusta me V1 by Vald>,\n <Song Parle moi (dirty) by Vald>,\n <Song Paye-moi c'est tout by Vald>,\n <Song Péché mignon (Vanité) by Vald>,\n <Song Peut-être by Vald>,\n <Song Freestyle (Vers de fin d'année) by Vald>,\n <Song NQNTMQMQMB + Cours de rattrapage [Livret] by Vald>,\n <Song Cinéma by Vald (Ft. Suikon Blaz AD)>,\n <Song Bonjour by Vald>,\n <Song Que le Trap Français repose en paix by Vald>,\n <Song Gizeh by Vald>,\n <Song Selfie by Vald>,\n <Song Freestyle de Vald en live dans Planète Rap ! by Vald (Ft. I.N.C.H. & Suikon Blaz AD)>,\n <Song Freestyle de Vald, I.N.C.H et Suik'On Blaze AD en live dans Planète Rap ! by Vald (Ft. I.N.C.H. & Suikon Blaz AD)>,\n <Song Freestyle Vald Skyrock NQNT2 3/3 (Ft. Suikon Blaz AD) by Vald (Ft. Vald)>,\n <Song Barême by Vald>,\n <Song Cartes sous l'coude by Vald>,\n <Song Freestyle Booska NQNT 2 by Vald>,\n <Song Infanticide by Vald (Ft. Suikon Blaz AD)>,\n <Song Joffrey by Vald>,\n <Song NQNT 2 [Livret] by Vald>,\n <Song Ogre by Vald>,\n <Song Promesse by Vald>,\n <Song Quidam by Vald>,\n <Song Retour by Vald>,\n <Song Taga by Vald>,\n <Song Urbanisme by Vald>,\n <Song Poisson by Vald>,\n <Song Compas by Vald>,\n <Song Tamere 2012 by Vald>,\n <Song Ostud by Vald>,\n <Song 3 heures de députés des pu by Vald>,\n <Song 3 heures de surprise by Vald>,\n <Song Le mignon by Vald>,\n <Song Envie by Vald>,\n <Song T'as bien mal by Vald>,\n <Song Eurotrap by Vald>,\n <Song La réussite by Vald>,\n <Song Megadose by Vald>,\n <Song Acte de foi by Vald>,\n <Song Petite chatte by Vald>,\n <Song Freestyle Boosk'Agartha by Vald>,\n <Song Acacia by Vald>,\n <Song Agartha [Livret] by Vald>,\n <Song Blanc by Vald (Ft. Suikon Blaz AD)>,\n <Song Dernier verre by Vald>,\n <Song Je t'aime by Vald>,\n <Song Kid Cudi by Vald>,\n <Song L.D.S by Vald>,\n <Song Lezarman by Vald>,\n <Song Libellule by Vald>,\n <Song Ma meilleure amie by Vald>,\n <Song Neo by Vald>,\n <Song Si j'arrêtais by Vald>,\n <Song Strip by Vald>,\n <Song Totem by Vald>,\n <Song Vitrine by Vald (Ft. Damso)>,\n <Song Saint-Valentin by Vald>,\n <Song Freestyle 6.45Agartha by Vald>,\n <Song MHD by Vald>,\n <Song Le Chant du Kraken by Vald>,\n <Song Inanition by Vald>,\n <Song Trophée by Vald>,\n <Song #IlEst6H13 by Vald>,\n <Song Berflam by Vald>,\n <Song Dior (Freestyle)* by Vald>,\n <Song Désaccordé by Vald>,\n <Song Accordé by Vald>,\n <Song Baby Squirt by Vald>,\n <Song Baraccuda by Vald>,\n <Song Foie gras by Vald>,\n <Song Jean Teh by Vald>,\n <Song Mana by Vald>,\n <Song Maya by Vald>,\n <Song Pas comme eux by Vald>,\n <Song Pentacles et bougies by Vald>,\n <Song Possédé Framboise by Vald>,\n <Song Sombre soirée by Vald>,\n <Song Symphonie by Vald>,\n <Song Trophée (Démo) by Vald>,\n <Song Freestyle Exclu #PlanèteRap by Vald>,\n <Song Chépakichui by Vald>,\n <Song DQTP by Vald>,\n <Song Deviens génial by Vald>,\n <Song Dragon by Vald (Ft. Sofiane)>,\n <Song Gris by Vald>,\n <Song Jentertain by Vald>,\n <Song Ne me déteste pas by Vald>,\n <Song Offshore by Vald (Ft. Suikon Blaz AD)>,\n <Song Possédé by Vald>,\n <Song Primitif by Vald>,\n <Song Rituel by Vald (Ft. Sirius)>,\n <Song Rocking chair by Vald>,\n <Song Réflexions basses by Vald>,\n <Song Résidus by Vald>,\n <Song Seum by Vald>,\n <Song Valise by Vald (Ft. Hornet La Frappe)>,\n <Song Kamasutra by Vald>,\n <Song MacDo by Vald>,\n <Song Molly interlude by Vald>,\n <Song No Tube Zone by Vald>,\n <Song Non stop by Vald>,\n <Song Rechute by Vald>,\n <Song Rhumance by Vald>,\n <Song Vlad by Vald>,\n <Song YAX3 by Vald>,\n <Song Iencli by Vald (Ft. Sofiane)>,\n <Song Wilson by Vald (Ft. I.N.C.H.)>,\n <Song Journal perso II by Vald>,\n <Song Freestyle Cruel by Vald>,\n <Song ASB by Vald (Ft. Maes)>,\n <Song Casimir by Vald>,\n <Song Ce monde est cruel by Vald>,\n <Song Dernier retrait by Vald (Ft. SCH)>,\n <Song Doli by Vald>,\n <Song Gringo envoie un mess by Vald>,\n <Song Halloween by Vald>,\n <Song Ignorant by Vald>,\n <Song J’pourrai by Vald>,\n <Song Keskivonfer by Vald>,\n <Song Ma star by Vald>,\n <Song NQNTMQMQMB by Vald (Ft. Suikon Blaz AD)>,\n <Song No friends by Vald>,\n <Song Pensionman by Vald>,\n <Song Persuadé by Vald>,\n <Song Poches pleines by Vald>,\n <Song Pourquoi by Vald>,\n <Song Rappel by Vald>,\n <Song Royal Bacon by Vald>,\n <Song BooskaVald by Vald>,\n <Song War Remix by Vald>,\n <Song Cristallisé by Vald>,\n <Song C’est pas nous les méchants by Vald>,\n <Song Gotaga by Vald>,\n <Song Adios by Vald>,\n <Song Annie Cordy by Vald>,\n <Song Bang Bang by Vald>,\n <Song Bonjour (version allemande/deutsche version) by Vald>,\n <Song Dans ta face by Vald>,\n <Song Footballeurs by Vald>,\n <Song Freestylère by Vald>,\n <Song Holehe by Vald>,\n <Song Indescent (Extrait Instagram) by Vald>,\n <Song Jack Skellington by Vald>,\n <Song La vie de rêve by Vald>,\n <Song Mal by Vald>,\n <Song Ne me déteste pas (Version longue) by Vald>,\n <Song Psychose by Vald>,\n <Song Triple Steak by Vald>,\n <Song Un Monde Étrange by Vald (Ft. Fratricid)>,\n <Song Vérité by Vald (Ft. Suikon Blaz AD)>,\n <Song XEU morceau abandonné feat Sofiane by Vald>}"
     },
     "execution_count": 2,
     "metadata": {},
     "output_type": "execute_result"
    }
   ],
   "source": [
    "vald = ly.Artiste(\"Vald\")\n",
    "vald_songs = vald.songs\n",
    "vald_songs\n"
   ],
   "metadata": {
    "collapsed": false,
    "ExecuteTime": {
     "start_time": "2023-04-12T16:45:37.135781Z",
     "end_time": "2023-04-12T16:45:37.177269Z"
    }
   }
  },
  {
   "cell_type": "code",
   "execution_count": 3,
   "outputs": [],
   "source": [
    "lexiques = Path(\"lexiques\").glob(\"*.json\")\n",
    "\n",
    "dict_lexiques = {\n",
    "    fic.stem: set(json.load(fic.open(encoding=\"utf-8\")))\n",
    "    for fic in lexiques\n",
    "}\n",
    "\n",
    "lexique_ultime = set.union(*dict_lexiques.values())\n",
    "\n",
    "# len(lexique_ultime) # 3 851 515 formes"
   ],
   "metadata": {
    "collapsed": false,
    "ExecuteTime": {
     "start_time": "2023-04-12T16:45:37.178342Z",
     "end_time": "2023-04-12T16:45:39.811064Z"
    }
   }
  },
  {
   "cell_type": "code",
   "execution_count": 4,
   "outputs": [],
   "source": [
    "def clean_word(word):\n",
    "    word = word.strip(\".,;“…’:!”?\\\"'()[]{}«»×*\").lower()\n",
    "    if re.fullmatch(r\"(\\\\x.+)|(\\d+)\", word):\n",
    "        return\n",
    "    return word"
   ],
   "metadata": {
    "collapsed": false,
    "ExecuteTime": {
     "start_time": "2023-04-12T16:45:39.813454Z",
     "end_time": "2023-04-12T16:45:39.815873Z"
    }
   }
  },
  {
   "cell_type": "code",
   "execution_count": 5,
   "outputs": [],
   "source": [
    "import spacy\n",
    "nlp = spacy.load(\"fr_core_news_sm\")"
   ],
   "metadata": {
    "collapsed": false,
    "ExecuteTime": {
     "start_time": "2023-04-12T16:45:39.816758Z",
     "end_time": "2023-04-12T16:45:48.574959Z"
    }
   }
  },
  {
   "cell_type": "code",
   "execution_count": 6,
   "outputs": [],
   "source": [
    "def tokenize(text):\n",
    "    return [token.text for token in nlp(text)]"
   ],
   "metadata": {
    "collapsed": false,
    "ExecuteTime": {
     "start_time": "2023-04-12T16:45:48.577796Z",
     "end_time": "2023-04-12T16:45:48.578508Z"
    }
   }
  },
  {
   "cell_type": "code",
   "execution_count": null,
   "outputs": [],
   "source": [
    "neologismes = set()\n",
    "\n",
    "for song in vald_songs:\n",
    "    if song.paroles:\n",
    "        for word in tokenize(song.paroles):\n",
    "            word = clean_word(word)\n",
    "            if word:\n",
    "                if word not in lexique_ultime:\n",
    "                    neologismes.add(word)\n",
    "\n",
    "len(neologismes)\n",
    "neologismes\n"
   ],
   "metadata": {
    "collapsed": false,
    "ExecuteTime": {
     "start_time": "2023-04-12T16:44:03.159713Z",
     "end_time": "2023-04-12T16:44:19.628684Z"
    },
    "pycharm": {
     "is_executing": true
    }
   }
  }
 ],
 "metadata": {
  "kernelspec": {
   "display_name": "Python 3",
   "language": "python",
   "name": "python3"
  },
  "language_info": {
   "codemirror_mode": {
    "name": "ipython",
    "version": 2
   },
   "file_extension": ".py",
   "mimetype": "text/x-python",
   "name": "python",
   "nbconvert_exporter": "python",
   "pygments_lexer": "ipython2",
   "version": "2.7.6"
  }
 },
 "nbformat": 4,
 "nbformat_minor": 0
}
