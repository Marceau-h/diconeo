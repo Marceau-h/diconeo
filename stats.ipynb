{
 "cells": [
  {
   "cell_type": "code",
   "execution_count": 1,
   "outputs": [],
   "source": [
    "import re\n",
    "\n",
    "import lyrics as ly\n",
    "import json\n",
    "from pathlib import Path\n",
    "\n",
    "from spacy.lang.fr import French\n",
    "\n",
    "def tokenize(chaine):\n",
    "    return [token.text for token in tokenizer(chaine)]\n",
    "\n",
    "def preclean(chaine):\n",
    "    chaine = chaine.replace(u\"\\xa0\", \" \")\n",
    "    chaine = chaine.replace(u\"\\u2009\", \" \")\n",
    "    chaine = chaine.replace(u\"\\u200b\", \" \")\n",
    "    chaine = chaine.replace(u\"\\u200c\", \" \")\n",
    "    return chaine.replace(u\"\\u200d\", \" \")\n",
    "\n",
    "def clean_word(word):\n",
    "    try:\n",
    "        word = word.strip()\n",
    "    except:\n",
    "        print(word)\n",
    "        return\n",
    "    word = word.strip(\".,;“…’:!”?\\\"()[]{}«»×*\")\n",
    "    if re.fullmatch(r\"((\\\\x)|(\\\\u)|(\\\\n)|(x?\\d+)).*\", word):\n",
    "        return\n",
    "    if '\"-\"' in word:\n",
    "        return\n",
    "    if word == 'à-ç':\n",
    "        return\n",
    "    if re.fullmatch('(-\"?\\w+)|(\\w+\"?-)', word):\n",
    "        return\n",
    "    if re.fullmatch(r\"[^A-zÄ-ÿ]+\", word):\n",
    "        return\n",
    "    if re.fullmatch(r\"('+)|(\\++)\", word):\n",
    "        return\n",
    "    return word\n",
    "\n",
    "def find_neo(songs):\n",
    "    neologismes = set()\n",
    "\n",
    "    for song in songs:\n",
    "        if song.paroles:\n",
    "            paroles = tokenize(preclean(song.paroles))\n",
    "            for word in paroles:\n",
    "                word = clean_word(word)\n",
    "                if word:\n",
    "                    if word.lower() not in lexique_ultime:\n",
    "                        neologismes.add(word)\n",
    "\n",
    "    return neologismes\n",
    "\n",
    "def songs_and_neo(artiste):\n",
    "    if isinstance(artiste, str | Path):\n",
    "        artiste = ly.Artiste(artiste)\n",
    "    songs = artiste.songs\n",
    "    neologismes = find_neo(songs)\n",
    "    return songs, neologismes\n",
    "\n",
    "nlp = French()\n",
    "\n",
    "tokenizer = nlp.tokenizer\n",
    "\n",
    "lexiques = Path(\"lexiques\").glob(\"*.json\")\n",
    "\n",
    "dict_lexiques = {\n",
    "    fic.stem: set(json.load(fic.open(encoding=\"utf-8\")))\n",
    "    for fic in lexiques\n",
    "}\n",
    "\n",
    "lexique_ultime = set.union(*dict_lexiques.values())"
   ],
   "metadata": {
    "collapsed": false,
    "ExecuteTime": {
     "start_time": "2023-04-18T17:27:41.485358Z",
     "end_time": "2023-04-18T17:27:48.606218Z"
    }
   }
  },
  {
   "cell_type": "markdown",
   "source": [
    "import spacy\n",
    "nlp = spacy.load(\"fr_core_news_sm\")"
   ],
   "metadata": {
    "collapsed": false
   }
  },
  {
   "cell_type": "code",
   "execution_count": null,
   "outputs": [],
   "source": [
    "# dict_artistes = {e : songs_and_neo(e) for e in (\"Vald\", \"FlorentPagny\", \"Kaaris\", \"MichelSardou\", \"OrelSan\", \"Alizée\")}\n",
    "\n",
    "artistes_files = Path(\"Lyrics_all\").glob(\"*.json\")\n",
    "\n",
    "dict_artistes = {\n",
    "    e : songs_and_neo(e)\n",
    "    for e in artistes_files\n",
    "}"
   ],
   "metadata": {
    "collapsed": false,
    "ExecuteTime": {
     "start_time": "2023-04-18T16:57:18.730903Z",
     "end_time": "2023-04-18T17:00:51.556626Z"
    },
    "pycharm": {
     "is_executing": true
    }
   }
  },
  {
   "cell_type": "code",
   "execution_count": null,
   "outputs": [],
   "source": [
    "# for k, v in dict_artistes.items():\n",
    "#     print(k, v[0], v[1])"
   ],
   "metadata": {
    "collapsed": false,
    "ExecuteTime": {
     "start_time": "2023-04-18T17:00:51.597444Z",
     "end_time": "2023-04-18T17:00:51.606302Z"
    },
    "pycharm": {
     "is_executing": true
    }
   }
  },
  {
   "cell_type": "code",
   "execution_count": null,
   "outputs": [],
   "source": [
    "import pandas as pd\n",
    "df = pd.DataFrame(dict_artistes).T\n"
   ],
   "metadata": {
    "collapsed": false,
    "ExecuteTime": {
     "start_time": "2023-04-18T17:00:51.597521Z",
     "end_time": "2023-04-18T17:00:55.250198Z"
    },
    "pycharm": {
     "is_executing": true
    }
   }
  },
  {
   "cell_type": "code",
   "execution_count": null,
   "outputs": [],
   "source": [
    "from matplotlib import pyplot as plt\n",
    "\n",
    "range_max = 150\n",
    "lenghts_neo = [(i, len(df[df[1].apply(lambda x : len(x) > i)])) for i in range(range_max)]\n",
    "lenghts_chanson = [(i, len(df[df[0].apply(lambda x : len([e for e in x if e.paroles]) > i)])) for i in range(range_max)]\n",
    "lenghts_fr_only = [(i, len(df[df[0].apply(lambda x : len([e for e in x if e.lang == \"fr\"]) > i)])) for i in range(range_max)]\n",
    "\n",
    "def plotter(elt, title, range_max=range_max):\n",
    "    mark = 0\n",
    "    for e in elt:\n",
    "        if e[1] < 201:\n",
    "            mark = e[0]\n",
    "            break\n",
    "\n",
    "    print(f\"{title} : Nombre max = {elt[0][1]}, nombre min = {elt[-1][1]}, theshold 200 = {mark}\")\n",
    "\n",
    "    plt.plot(*zip(*elt))\n",
    "    plt.title(title)\n",
    "    plt.axis((0,range_max,0,800))\n",
    "    plt.show()\n",
    "    # plt.plot(*zip(*elt[50:]))\n",
    "    # plt.title(title)\n",
    "    # plt.axis((50,200,0,800))\n",
    "    # plt.show()\n",
    "\n",
    "plotter(lenghts_neo, \"Nombre de neologismes\")\n",
    "plotter(lenghts_chanson, \"Nombre de chansons\")\n",
    "plotter(lenghts_fr_only, \"Nombre de chansons en français\")\n"
   ],
   "metadata": {
    "collapsed": false,
    "ExecuteTime": {
     "start_time": "2023-04-18T17:25:11.114468Z",
     "end_time": "2023-04-18T17:25:14.119415Z"
    },
    "pycharm": {
     "is_executing": true
    }
   }
  },
  {
   "cell_type": "code",
   "execution_count": null,
   "outputs": [],
   "source": [
    "df = df[df[1].apply(lambda x : len(x) > 10)]\n",
    "df"
   ],
   "metadata": {
    "collapsed": false,
    "ExecuteTime": {
     "start_time": "2023-04-18T16:27:20.246237Z",
     "end_time": "2023-04-18T16:27:20.323590Z"
    },
    "pycharm": {
     "is_executing": true
    }
   }
  },
  {
   "cell_type": "code",
   "execution_count": null,
   "outputs": [],
   "source": [
    "print(df)"
   ],
   "metadata": {
    "collapsed": false,
    "ExecuteTime": {
     "start_time": "2023-04-18T16:27:20.287471Z",
     "end_time": "2023-04-18T16:27:20.325755Z"
    },
    "pycharm": {
     "is_executing": true
    }
   }
  },
  {
   "cell_type": "code",
   "execution_count": null,
   "outputs": [],
   "source": [
    "df.to_json(\"neologismes.json\")\n",
    "df.to_csv(\"neologismes.csv\")"
   ],
   "metadata": {
    "collapsed": false,
    "ExecuteTime": {
     "start_time": "2023-04-18T16:27:20.287727Z",
     "end_time": "2023-04-18T16:27:21.548143Z"
    },
    "pycharm": {
     "is_executing": true
    }
   }
  },
  {
   "cell_type": "code",
   "execution_count": null,
   "outputs": [],
   "source": [
    "for k, v in dict_artistes.items():\n",
    "    print(f\"Aritste : {k} | Nombre de chansons : {len(v[0])} | Nombre de chansons avec paroles : {len([e for e in v[0] if e.paroles])} | Nombre de neologismes : {len(v[1])}\")\n"
   ],
   "metadata": {
    "collapsed": false,
    "ExecuteTime": {
     "start_time": "2023-04-18T16:27:21.570282Z",
     "end_time": "2023-04-18T16:27:21.604734Z"
    },
    "pycharm": {
     "is_executing": true
    }
   }
  },
  {
   "cell_type": "code",
   "execution_count": null,
   "outputs": [],
   "source": [
    "nb = 0\n",
    "for k, v in dict_artistes.items():\n",
    "    if len(v[1]) == 0:\n",
    "        nb += 1\n",
    "nb\n"
   ],
   "metadata": {
    "collapsed": false,
    "ExecuteTime": {
     "start_time": "2023-04-18T16:27:21.594676Z",
     "end_time": "2023-04-18T16:27:21.605273Z"
    },
    "pycharm": {
     "is_executing": true
    }
   }
  },
  {
   "cell_type": "code",
   "execution_count": null,
   "outputs": [],
   "source": [
    "len(dict_artistes)\n"
   ],
   "metadata": {
    "collapsed": false,
    "ExecuteTime": {
     "start_time": "2023-04-18T16:27:21.598165Z",
     "end_time": "2023-04-18T16:27:21.622034Z"
    },
    "pycharm": {
     "is_executing": true
    }
   }
  }
 ],
 "metadata": {
  "kernelspec": {
   "display_name": "Python 3",
   "language": "python",
   "name": "python3"
  },
  "language_info": {
   "codemirror_mode": {
    "name": "ipython",
    "version": 2
   },
   "file_extension": ".py",
   "mimetype": "text/x-python",
   "name": "python",
   "nbconvert_exporter": "python",
   "pygments_lexer": "ipython2",
   "version": "2.7.6"
  }
 },
 "nbformat": 4,
 "nbformat_minor": 0
}
