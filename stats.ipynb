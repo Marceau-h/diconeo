{
 "cells": [
  {
   "cell_type": "code",
   "execution_count": 36,
   "outputs": [],
   "source": [
    "import re\n",
    "\n",
    "import lyrics as ly\n",
    "import json\n",
    "from pathlib import Path\n"
   ],
   "metadata": {
    "collapsed": false,
    "ExecuteTime": {
     "start_time": "2023-04-13T13:53:50.298272Z",
     "end_time": "2023-04-13T13:53:50.313259Z"
    }
   }
  },
  {
   "cell_type": "markdown",
   "source": [
    "import spacy\n",
    "nlp = spacy.load(\"fr_core_news_sm\")"
   ],
   "metadata": {
    "collapsed": false
   }
  },
  {
   "cell_type": "code",
   "execution_count": 37,
   "outputs": [
    {
     "data": {
      "text/plain": "{<Song Freestyle téléphoné by Vald>,\n <Song Paradoxe by Vald>,\n <Song Freestyle Daymolition (27 août 2011) by Vald>,\n <Song Freestyle Daymolition A capella by Vald>,\n <Song Freestyle Daymolition by Vald>,\n <Song Poésie moderne by Vald>,\n <Song CQFD by Vald>,\n <Song Journal perso by Vald>,\n <Song Branleur by Vald>,\n <Song Deuspi by Vald (Ft. Suikon Blaz AD)>,\n <Song Elyxir by Vald (Ft. Georgio)>,\n <Song Fado by Vald>,\n <Song Gouaould by Vald>,\n <Song Guedin by Vald>,\n <Song Interlude by Vald>,\n <Song J'ai rêvé d'un verre de sang by Vald>,\n <Song Lalala by Vald>,\n <Song Lettre à Élise by Vald>,\n <Song Lune by Vald>,\n <Song Métafion by Vald (Ft. Suikon Blaz AD)>,\n <Song Pas grave by Vald>,\n <Song Rockstar by Vald>,\n <Song Smiley by Vald>,\n <Song Surprise by Vald>,\n <Song Teh stylé by Vald>,\n <Song Winston by Vald>,\n <Song Évoluchienne by Vald>,\n <Song Freestyle séquestration by Vald (Ft. Georgio)>,\n <Song Freestyle by Vald (Ft. Georgio)>,\n <Song Rendez-moi by Vald (Ft. Suikon Blaz AD)>,\n <Song Vald freestyle Daymolition 07/07/2012 by Vald>,\n <Song La Comptine de Sullyvan (Interlude) by Vald (Ft. Suikon Blaz AD)>,\n <Song Mon présent by Vald (Ft. Suikon Blaz AD)>,\n <Song Adulez-moi by Vald>,\n <Song Ass propos by Vald (Ft. Suikon Blaz AD)>,\n <Song Bukkake by Vald>,\n <Song Donkey punch by Vald>,\n <Song Encore by Vald>,\n <Song J'ai vu by Vald (Ft. Suikon Blaz AD)>,\n <Song John Doe by Vald (Ft. Suikon Blaz AD)>,\n <Song La ive by Vald (Ft. Georgio)>,\n <Song NQNT by Vald (Ft. Suikon Blaz AD)>,\n <Song Nique le bordel by Vald>,\n <Song Pour si peu by Vald (Ft. Rabakar)>,\n <Song Que fait la police by Vald (Ft. Suikon Blaz AD)>,\n <Song Spirale by Vald>,\n <Song V.A.L.S.E by Vald>,\n <Song Épices loufoques by Vald (Ft. Georgio)>,\n <Song Le divan by Vald>,\n <Song Autiste by Vald>,\n <Song Gusta me Freestyle by Vald>,\n <Song Shoote un ministre by Vald>,\n <Song Maizena by Vald (Ft. I.N.C.H., Kro & Suikon Blaz AD)>,\n <Song FREENQNT by Vald>,\n <Song Par toutatis by Vald>,\n <Song I.N.C.H BEATS by Vald>,\n <Song Aulnay-sous-Bois by Vald>,\n <Song C'est pour by Vald>,\n <Song Elle me regarde by Vald>,\n <Song Flowjob by Vald (Ft. Suikon Blaz AD)>,\n <Song Horrible by Vald>,\n <Song NQNT [Livret] by Vald>,\n <Song PF by Vald>,\n <Song Sullyvan by Vald>,\n <Song Vie de cochon by Vald>,\n <Song Freestyle Booska NQNT by Vald>,\n <Song Freestyle Abcdrduson by Vald>,\n <Song Gusta me V1 by Vald>,\n <Song Parle moi (dirty) by Vald>,\n <Song Paye-moi c'est tout by Vald>,\n <Song Péché mignon (Vanité) by Vald>,\n <Song Peut-être by Vald>,\n <Song Freestyle (Vers de fin d'année) by Vald>,\n <Song NQNTMQMQMB + Cours de rattrapage [Livret] by Vald>,\n <Song Cinéma by Vald (Ft. Suikon Blaz AD)>,\n <Song Bonjour by Vald>,\n <Song Que le Trap Français repose en paix by Vald>,\n <Song Gizeh by Vald>,\n <Song Selfie by Vald>,\n <Song Freestyle de Vald en live dans Planète Rap ! by Vald (Ft. I.N.C.H. & Suikon Blaz AD)>,\n <Song Freestyle de Vald, I.N.C.H et Suik'On Blaze AD en live dans Planète Rap ! by Vald (Ft. I.N.C.H. & Suikon Blaz AD)>,\n <Song Freestyle Vald Skyrock NQNT2 3/3 (Ft. Suikon Blaz AD) by Vald (Ft. Vald)>,\n <Song Barême by Vald>,\n <Song Cartes sous l'coude by Vald>,\n <Song Freestyle Booska NQNT 2 by Vald>,\n <Song Infanticide by Vald (Ft. Suikon Blaz AD)>,\n <Song Joffrey by Vald>,\n <Song NQNT 2 [Livret] by Vald>,\n <Song Ogre by Vald>,\n <Song Promesse by Vald>,\n <Song Quidam by Vald>,\n <Song Retour by Vald>,\n <Song Taga by Vald>,\n <Song Urbanisme by Vald>,\n <Song Poisson by Vald>,\n <Song Compas by Vald>,\n <Song Tamere 2012 by Vald>,\n <Song Ostud by Vald>,\n <Song 3 heures de députés des pu by Vald>,\n <Song 3 heures de surprise by Vald>,\n <Song Le mignon by Vald>,\n <Song Envie by Vald>,\n <Song T'as bien mal by Vald>,\n <Song Eurotrap by Vald>,\n <Song La réussite by Vald>,\n <Song Megadose by Vald>,\n <Song Acte de foi by Vald>,\n <Song Petite chatte by Vald>,\n <Song Freestyle Boosk'Agartha by Vald>,\n <Song Acacia by Vald>,\n <Song Agartha [Livret] by Vald>,\n <Song Blanc by Vald (Ft. Suikon Blaz AD)>,\n <Song Dernier verre by Vald>,\n <Song Je t'aime by Vald>,\n <Song Kid Cudi by Vald>,\n <Song L.D.S by Vald>,\n <Song Lezarman by Vald>,\n <Song Libellule by Vald>,\n <Song Ma meilleure amie by Vald>,\n <Song Neo by Vald>,\n <Song Si j'arrêtais by Vald>,\n <Song Strip by Vald>,\n <Song Totem by Vald>,\n <Song Vitrine by Vald (Ft. Damso)>,\n <Song Saint-Valentin by Vald>,\n <Song Freestyle 6.45Agartha by Vald>,\n <Song MHD by Vald>,\n <Song Le Chant du Kraken by Vald>,\n <Song Inanition by Vald>,\n <Song Trophée by Vald>,\n <Song #IlEst6H13 by Vald>,\n <Song Berflam by Vald>,\n <Song Dior (Freestyle)* by Vald>,\n <Song Désaccordé by Vald>,\n <Song Accordé by Vald>,\n <Song Baby Squirt by Vald>,\n <Song Baraccuda by Vald>,\n <Song Foie gras by Vald>,\n <Song Jean Teh by Vald>,\n <Song Mana by Vald>,\n <Song Maya by Vald>,\n <Song Pas comme eux by Vald>,\n <Song Pentacles et bougies by Vald>,\n <Song Possédé Framboise by Vald>,\n <Song Sombre soirée by Vald>,\n <Song Symphonie by Vald>,\n <Song Trophée (Démo) by Vald>,\n <Song Freestyle Exclu #PlanèteRap by Vald>,\n <Song Chépakichui by Vald>,\n <Song DQTP by Vald>,\n <Song Deviens génial by Vald>,\n <Song Dragon by Vald (Ft. Sofiane)>,\n <Song Gris by Vald>,\n <Song Jentertain by Vald>,\n <Song Ne me déteste pas by Vald>,\n <Song Offshore by Vald (Ft. Suikon Blaz AD)>,\n <Song Possédé by Vald>,\n <Song Primitif by Vald>,\n <Song Rituel by Vald (Ft. Sirius)>,\n <Song Rocking chair by Vald>,\n <Song Réflexions basses by Vald>,\n <Song Résidus by Vald>,\n <Song Seum by Vald>,\n <Song Valise by Vald (Ft. Hornet La Frappe)>,\n <Song Kamasutra by Vald>,\n <Song MacDo by Vald>,\n <Song Molly interlude by Vald>,\n <Song No Tube Zone by Vald>,\n <Song Non stop by Vald>,\n <Song Rechute by Vald>,\n <Song Rhumance by Vald>,\n <Song Vlad by Vald>,\n <Song YAX3 by Vald>,\n <Song Iencli by Vald (Ft. Sofiane)>,\n <Song Wilson by Vald (Ft. I.N.C.H.)>,\n <Song Journal perso II by Vald>,\n <Song Freestyle Cruel by Vald>,\n <Song ASB by Vald (Ft. Maes)>,\n <Song Casimir by Vald>,\n <Song Ce monde est cruel by Vald>,\n <Song Dernier retrait by Vald (Ft. SCH)>,\n <Song Doli by Vald>,\n <Song Gringo envoie un mess by Vald>,\n <Song Halloween by Vald>,\n <Song Ignorant by Vald>,\n <Song J’pourrai by Vald>,\n <Song Keskivonfer by Vald>,\n <Song Ma star by Vald>,\n <Song NQNTMQMQMB by Vald (Ft. Suikon Blaz AD)>,\n <Song No friends by Vald>,\n <Song Pensionman by Vald>,\n <Song Persuadé by Vald>,\n <Song Poches pleines by Vald>,\n <Song Pourquoi by Vald>,\n <Song Rappel by Vald>,\n <Song Royal Bacon by Vald>,\n <Song BooskaVald by Vald>,\n <Song War Remix by Vald>,\n <Song Cristallisé by Vald>,\n <Song C’est pas nous les méchants by Vald>,\n <Song Gotaga by Vald>,\n <Song Adios by Vald>,\n <Song Annie Cordy by Vald>,\n <Song Bang Bang by Vald>,\n <Song Bonjour (version allemande/deutsche version) by Vald>,\n <Song Dans ta face by Vald>,\n <Song Footballeurs by Vald>,\n <Song Freestylère by Vald>,\n <Song Holehe by Vald>,\n <Song Indescent (Extrait Instagram) by Vald>,\n <Song Jack Skellington by Vald>,\n <Song La vie de rêve by Vald>,\n <Song Mal by Vald>,\n <Song Ne me déteste pas (Version longue) by Vald>,\n <Song Psychose by Vald>,\n <Song Triple Steak by Vald>,\n <Song Un Monde Étrange by Vald (Ft. Fratricid)>,\n <Song Vérité by Vald (Ft. Suikon Blaz AD)>,\n <Song XEU morceau abandonné feat Sofiane by Vald>}"
     },
     "execution_count": 37,
     "metadata": {},
     "output_type": "execute_result"
    }
   ],
   "source": [
    "vald = ly.Artiste(\"Vald\")\n",
    "vald_songs = vald.songs\n",
    "vald_songs\n"
   ],
   "metadata": {
    "collapsed": false,
    "ExecuteTime": {
     "start_time": "2023-04-13T13:53:50.302856Z",
     "end_time": "2023-04-13T13:53:51.357434Z"
    }
   }
  },
  {
   "cell_type": "code",
   "execution_count": 38,
   "outputs": [],
   "source": [
    "lexiques = Path(\"lexiques\").glob(\"*.json\")\n",
    "\n",
    "dict_lexiques = {\n",
    "    fic.stem: set(json.load(fic.open(encoding=\"utf-8\")))\n",
    "    for fic in lexiques\n",
    "}\n",
    "\n",
    "lexique_ultime = set.union(*dict_lexiques.values())\n",
    "\n",
    "# len(lexique_ultime) # 3 851 515 formes"
   ],
   "metadata": {
    "collapsed": false,
    "ExecuteTime": {
     "start_time": "2023-04-13T13:53:51.360062Z",
     "end_time": "2023-04-13T13:53:54.472737Z"
    }
   }
  },
  {
   "cell_type": "code",
   "execution_count": 39,
   "outputs": [],
   "source": [
    "def preclean(chaine):\n",
    "    chaine = chaine.replace(u\"\\xa0\", \" \")\n",
    "    chaine = chaine.replace(u\"\\u2009\", \" \")\n",
    "    chaine = chaine.replace(u\"\\u200b\", \" \")\n",
    "    chaine = chaine.replace(u\"\\u200c\", \" \")\n",
    "    return chaine.replace(u\"\\u200d\", \" \")\n",
    "\n",
    "def clean_word(word):\n",
    "    try:\n",
    "        word = word.strip()\n",
    "    except:\n",
    "        print(word)\n",
    "        return\n",
    "    word = word.strip(\".,;“…’:!”?\\\"()[]{}«»×*\")\n",
    "    if re.fullmatch(r\"((\\\\x)|(\\\\u)|(\\\\n)|(x?\\d+)).*\", word):\n",
    "        return\n",
    "    if '\"-\"' in word:\n",
    "        return\n",
    "    if word == 'à-ç':\n",
    "        return\n",
    "    if re.fullmatch('(-\"?\\w+)|(\\w+\"?-)', word):\n",
    "        return\n",
    "    if re.fullmatch(r\"[^A-zÄ-ÿ]+\", word):\n",
    "        return\n",
    "    if re.fullmatch(r\"('+)|(\\++)\", word):\n",
    "        return\n",
    "    return word"
   ],
   "metadata": {
    "collapsed": false,
    "ExecuteTime": {
     "start_time": "2023-04-13T13:53:54.477517Z",
     "end_time": "2023-04-13T13:53:54.478666Z"
    }
   }
  },
  {
   "cell_type": "code",
   "execution_count": 40,
   "outputs": [
    {
     "data": {
      "text/plain": "[\"C'\", 'est', \"l'\", 'été', ',', 'on', 'va', 'à', 'la', 'plage', '!']"
     },
     "execution_count": 40,
     "metadata": {},
     "output_type": "execute_result"
    }
   ],
   "source": [
    "from spacy.tokenizer import Tokenizer\n",
    "from spacy.lang.fr import French\n",
    "nlp = French()\n",
    "\n",
    "# Create a blank Tokenizer with just the French vocab\n",
    "tokenizer = nlp.tokenizer\n",
    "\n",
    "def tokenize(chaine):\n",
    "    return [token.text for token in tokenizer(chaine)]\n",
    "\n",
    "tokenize(\"C'est l'été, on va à la plage !\")"
   ],
   "metadata": {
    "collapsed": false,
    "ExecuteTime": {
     "start_time": "2023-04-13T13:53:54.481341Z",
     "end_time": "2023-04-13T13:53:54.993412Z"
    }
   }
  },
  {
   "cell_type": "code",
   "execution_count": 41,
   "outputs": [
    {
     "data": {
      "text/plain": "716"
     },
     "execution_count": 41,
     "metadata": {},
     "output_type": "execute_result"
    }
   ],
   "source": [
    "neologismes = set()\n",
    "\n",
    "for song in vald_songs:\n",
    "    if song.paroles:\n",
    "        paroles = tokenize(preclean(song.paroles))\n",
    "        for word in paroles:\n",
    "            word = clean_word(word)\n",
    "            if word:\n",
    "                if word.lower() not in lexique_ultime:\n",
    "                    neologismes.add(word)\n",
    "\n",
    "len(neologismes)\n"
   ],
   "metadata": {
    "collapsed": false,
    "ExecuteTime": {
     "start_time": "2023-04-13T13:53:55.040364Z",
     "end_time": "2023-04-13T13:53:56.692508Z"
    }
   }
  },
  {
   "cell_type": "code",
   "execution_count": 42,
   "outputs": [
    {
     "data": {
      "text/plain": "{'AK-4',\n 'AR15',\n 'ASB',\n 'Aaaah',\n 'Agartha',\n 'Ahahah',\n 'Aifailow',\n 'Akinator',\n 'Akon',\n 'AlloCiné',\n 'Alright',\n 'Alucard',\n 'Amsterdamer',\n 'Anderssen',\n 'Aquaboulevard',\n 'Assedics',\n 'Assédics',\n 'Atari',\n 'Attali',\n 'Aujourd’hui',\n 'Aulnay-Sous-Bois',\n 'Aulnay-sous-Bois',\n 'Aulnay-sous-bois',\n 'B.A',\n 'BBP',\n 'BHL',\n 'BIIIP',\n 'BLABLABLABLABLABLA',\n 'BZ',\n 'Babidi',\n 'Bac+15',\n 'Baccardi',\n 'Balenciaga',\n 'Bambi',\n 'Baygon',\n 'Beaudottes',\n 'Belek',\n 'Benibla',\n 'Beyoncé',\n 'Bi-bi-bi-bi-biatch',\n 'Bilderberg',\n 'Billie',\n 'Bioman',\n 'Blaz',\n 'Bomayé',\n 'Booska',\n 'Breitling',\n 'CDD',\n 'CSA',\n 'Carapuce',\n 'Cartman',\n 'Casse-toi',\n 'Certi',\n 'Chalgoumi',\n 'Chateau-Latour',\n 'Chupa',\n 'Chups',\n 'Chépakichui',\n 'Closer',\n 'Cofidis',\n 'Coraya',\n 'Corns',\n 'Crips',\n 'Cudi',\n 'DDP',\n \"Daniel'\",\n 'Delastreet',\n 'Dence',\n 'Deuspi',\n 'Diallo',\n 'Diddy',\n 'Donkey',\n 'Drogba',\n 'Durif',\n 'Décimeur',\n 'Désigneur',\n 'E.T',\n 'EMC',\n 'Eastpak',\n 'Eeeh',\n 'Eeen',\n 'Elyxir',\n 'Eminem',\n 'Eristoff',\n \"Est-c'que\",\n 'Evil',\n 'FPS',\n 'FaceTime',\n 'Facebook',\n 'Facom',\n 'Faurisson',\n 'Ffeu',\n 'Flab',\n 'Flowjob',\n 'FreeNQNT',\n 'Freedent',\n 'Frosties',\n 'Fréquenstar',\n 'Fuck',\n 'Fucking',\n 'GAM€',\n 'Gareth',\n 'Genkidama',\n 'Glober',\n \"Goa'\",\n 'Gorillaz',\n 'Gotaga',\n 'Grammy',\n 'Griselda',\n 'Grosminet',\n 'Grrrah',\n 'Gusta',\n 'Gwendolina',\n 'H.E.C',\n 'H24',\n 'Haaan',\n 'Haley',\n 'Harbor',\n 'Haribo',\n 'HassuKata',\n 'HatonBigon',\n 'Haze',\n 'Hehehe',\n 'Heineken',\n 'Hennessy',\n 'Heuss',\n 'Hobbits',\n 'Holyfield',\n 'Hoola',\n 'Hornet',\n 'I.N.C.H',\n 'Ibliss',\n 'Izac',\n 'Jamel',\n 'Jean-Luc',\n 'Jedusor',\n 'Jentertain',\n 'JoeyStarr',\n 'Joffrey',\n 'KKK',\n 'Kakashi',\n 'Kalashni',\n 'Kamasutra',\n 'Kanye',\n 'Kaporal',\n 'Kardashian',\n 'Keanu',\n \"Keen'\",\n 'Kerch',\n 'Keskivonfer',\n 'KoolShen',\n \"L'25\",\n 'L.D',\n 'L.D.S',\n 'Lalala',\n 'Lancôme',\n 'Lanny',\n 'Leffe',\n 'Lexomils',\n 'Lezarman',\n 'Lotofoot',\n 'Luia',\n 'M.S.N',\n \"MC'\",\n 'MCs',\n 'MILF',\n 'MP3',\n 'MacDo',\n 'Maes',\n 'Manaudou',\n 'Manix',\n 'Margiela',\n 'Mashallah',\n 'Mathafack',\n 'Mathy',\n 'Matuidi',\n 'McDo',\n 'McDoom',\n 'Megadose',\n 'Mercus',\n 'Mesrinisé',\n 'Mew',\n 'Monfils',\n 'Monopoly',\n 'Mordor',\n 'Motherfuck',\n 'Motherfucker',\n 'N.Q.N.Q.N.Q.N.T',\n 'N.Q.N.T',\n 'NQNT',\n 'NQNT2',\n 'Nafissatou',\n 'Nazdal',\n 'Nibiru',\n 'Nigga',\n 'Niqaab',\n \"Nique'\",\n 'O.D',\n 'O.G',\n 'O.N.U',\n 'OCB',\n 'ODB',\n 'OV€R',\n 'Oayawawayoawoawaaoawaya',\n 'Obama',\n 'Obispo',\n 'Okushi',\n 'Oogie',\n 'Ooh',\n 'Oooh',\n 'Ooooh',\n 'Ostud',\n 'Oussama',\n 'Outro',\n 'Ouuuh',\n 'PCM',\n 'PCP',\n 'PPDA',\n 'PVC',\n 'Paki',\n 'Pampers',\n 'Panacloc',\n 'Paquito',\n 'Parinor',\n 'Passe-moi',\n 'Pattaya',\n 'Pensionman',\n 'Pesci',\n 'Pictionary',\n \"Po'\",\n 'Pornichet',\n 'Porte-tire',\n 'Poséïdon',\n 'Ppe',\n 'Pré-refrain',\n 'Pulco',\n 'Quiès',\n \"R'n'B'\",\n 'R.A.F',\n 'Rabakar',\n 'Rastaman',\n 'Rayban',\n 'Re-clai',\n 'RedBull',\n 'Redbull',\n 'Ricola',\n 'Rihanna',\n 'SACEM',\n 'SMS',\n 'Saint-Graal',\n 'Samantha',\n 'Sanytol',\n 'Sarko',\n 'Saroumane',\n 'Saruman',\n 'Sauron',\n 'Schoomy',\n 'Screetch',\n 'Scret',\n 'Seezy',\n 'Sevran',\n 'Sheitan',\n 'Shen',\n 'Showcase',\n 'Shox',\n 'Skyrock',\n 'Sobies',\n 'Sofitel',\n 'Soulja',\n 'Spankwire',\n 'Spielberg',\n 'Spliffs',\n 'Stallone',\n 'Started',\n 'Subaru',\n \"Suik'\",\n 'Suiki',\n 'Suikon',\n 'Suiky',\n 'Sullyvan',\n 'Ségolène',\n 'TBM',\n 'Tchoin',\n 'Tefa',\n 'Théandras',\n 'Tipp',\n 'Tire-en',\n 'Trump',\n 'Twingo',\n 'Tétris',\n 'USB',\n 'V.A',\n 'V.A.L',\n 'V.A.L.D',\n 'V.A.L.D.T.C',\n 'V.AL.D.-L.D',\n 'V.L',\n 'VALD',\n 'VF',\n 'VHR',\n 'VHS',\n 'Vald',\n 'Versace',\n 'Vito',\n 'Vlad',\n 'Vélib',\n 'Walay',\n 'Weedim',\n 'Weezy',\n 'Wesh',\n 'Whiskas',\n 'Woodstock',\n 'Wow',\n 'X2',\n 'Xeu',\n 'YAX3',\n 'Yitzhak',\n 'YouTube',\n 'Zavatta',\n 'Zelda',\n 'Zetrei',\n 'a.k.a',\n 'abolise',\n 'airplay',\n 'alright',\n 'amphét',\n 'annulingus',\n 'aujourd’hui',\n 'aç',\n 'babtou',\n 'bails',\n 'banniment',\n 'battlefield',\n 'bellydance',\n 'belongings',\n 'beujs',\n 'biactole',\n 'biene',\n 'biffton',\n \"bin'\",\n 'binks',\n 'birthday',\n 'bizz',\n \"blarf'\",\n 'blarfs',\n 'blinies',\n 'blsdfbvzmfsbv',\n 'bnb',\n 'bobsleg',\n 'bohèmien',\n 'bonne-char',\n \"boug'\",\n 'bougs',\n 'bout-en-train',\n 'boze',\n 'braaa',\n 'braquo',\n 'breuch',\n 'broliqué',\n 'bzzz',\n 'bzèze',\n 'bédo',\n 'bénéf',\n 'bûte',\n 'caces',\n 'cache-moi',\n 'calendar',\n 'casse-toi',\n 'catering',\n 'cavu',\n \"ce'\",\n 'celards',\n 'certi',\n 'charqs',\n 'charts',\n 'chh',\n 'chipos',\n 'choice',\n 'cielgratte',\n 'cile',\n 'clital',\n 'co-co-coms',\n 'colectés',\n 'compét',\n 'compеtition',\n 'couz',\n 'crackman',\n 'creampie',\n 'crew',\n 'crews',\n 'cô',\n 'c‘est',\n 'd\\'\"sales',\n \"d',réssoi\",\n \"d'2000\",\n 'dales',\n 'dark',\n 'darme',\n 'de-blon',\n 'de-mer',\n 'de-spee',\n 'deps',\n \"dev'\",\n 'dickslap',\n 'dif',\n 'doggin',\n 'dolls',\n 'drolissime',\n 'dutchs',\n 'dèps',\n 'dé-suici',\n 'déch',\n 'déj',\n 'délinquanc',\n 'déparavé',\n 'déso',\n 'eing',\n 'emprisonnable',\n 'en-dessous',\n 'ensure',\n 'entertain',\n 'eqfd',\n 'equipaje',\n \"est-c'qu'on\",\n \"est-c'que\",\n 'euuuh',\n 'everyday',\n 'ex-pute',\n 'faaaaaiiire',\n 'fagg',\n 'fagget',\n 'faggot',\n 'falsch',\n 'falsh',\n 'faschisme',\n 'faux-semblables',\n 'fianso',\n 'fifteen',\n 'fleuj',\n 'fomblars',\n 'fonblard',\n 'fonscar',\n 'found',\n 'freezbee',\n 'frervis',\n 'frès',\n 'fuck',\n 'gambelles',\n 'gangbang',\n 'garo',\n 'garos',\n 'garss',\n 'gastrophobie',\n 'geuschla',\n 'geush',\n 'ghostwriter',\n 'gniacks',\n 'godmichet',\n 'gonzos',\n 'gourdasses',\n 'gueuch',\n 'gueusch',\n 'gueush',\n 'gueushs',\n 'haaan',\n 'handspinner',\n 'hanoucca',\n 'haters',\n 'hchouma',\n 'heavy',\n 'heeeein',\n 'hinhin',\n 'hlib',\n 'hoodie',\n 'hors-normes',\n 'houuu',\n 'iPhone',\n 'ients',\n 'illets',\n 'infinitum',\n 'ingé',\n 'inspi',\n \"it'\",\n \"j''pé\",\n \"j''tais\",\n 'japonnaise',\n \"je'\",\n \"jean'\",\n 'jertes',\n 'jnouns',\n 'kamagra',\n 'kamas',\n 'kaméhas',\n 'keuf',\n 'keufs',\n 'khabat',\n 'khaliss',\n 'khapta',\n 'khos',\n 'kichta',\n 'kizomba',\n 'kweh',\n \"l'15\",\n 'larmich',\n 'lonely',\n 'mercé',\n 'merdification',\n 'meuj',\n 'meujes',\n 'meujs',\n 'mi-ch’min',\n 'michtonnes',\n 'midor',\n 'miff',\n 'milfs',\n 'minch',\n 'miskine',\n 'monocentré',\n 'motherfuck',\n 'motherfucker',\n 'movies',\n 'muah',\n 'nesses',\n 'nexter',\n 'non-cagoulé',\n 'non-écroués',\n 'nooooon',\n 'normiche',\n 'négrooo',\n 'nêtre',\n 'oKZjfgblvz',\n 'obtempèr',\n 'occaz',\n 'oidgts',\n 'oim',\n 'oiqu',\n 'olviden',\n 'osef',\n 'ouuuh',\n 'ouuuuh',\n 'pachiderme',\n 'passe-moi',\n 'peace',\n 'perpet',\n 'perquis',\n 'peura',\n 'pied-zer',\n 'pixs',\n 'piègés',\n 'placXKAGFBCLED',\n \"po'\",\n 'pocheton',\n 'porn',\n 'post-bac',\n 'pousse-toi',\n 'ppe',\n 'psht',\n 'punchlines',\n 'pussy',\n 'péraves',\n 'pétanquent',\n 'qu\\'\"j\\'',\n \"quatre-vingt-'ze-trei'\",\n \"quatre-vingt-ze-tre'\",\n \"r'cherche\",\n \"r'chope\",\n \"r'devient\",\n \"r'faire\",\n \"r'fait\",\n \"r'gardant\",\n \"r'garde\",\n \"r'garder\",\n \"r'gardé\",\n \"r'gretter\",\n \"r'mettre\",\n \"r'mords\",\n \"r'parte\",\n \"r'pas\",\n \"r'présentent\",\n \"r'ssemble\",\n \"r'tire\",\n \"r'tour\",\n \"r'tourne\",\n \"r'tourner\",\n \"r'traite\",\n \"r'trouvé\",\n \"r'viennent\",\n \"r'vient\",\n 'raffler',\n 'rants',\n 're-frè',\n 're-fré',\n 're-pu',\n 're-tromper',\n 'recoger',\n 'redbull',\n 'refrés',\n 'released',\n 'renp',\n 'rents',\n 'reset',\n 'ringtone',\n 'rislands',\n 'rookies',\n 'rrant',\n 'ré-animera',\n 'rélabore',\n 'réput',\n 'rеgard',\n 'sbarre',\n 'schlags',\n 'schlasser',\n 'schlasseurs',\n 'schneckeus',\n 'schnek',\n 'schneks',\n 'selfie',\n 'serflex',\n 'seufs',\n 'seum',\n 'sextapes',\n 'sheitan',\n 'shemale',\n 'shlag',\n 'shlags',\n 'shlass',\n 'shlasser',\n 'shné',\n 'shorti',\n 'shoryuken',\n 'showcase',\n 'shtar',\n 'simbas',\n 'skeus',\n 'slimzer',\n 'snobbé',\n 'snuff',\n 'socks',\n 'soss',\n 'soupelette',\n 'sous-doué',\n 'souye',\n 'spicy',\n 'spli',\n 'spliff',\n 'spliffs',\n 'spliffton',\n 'sponso',\n 'squirt',\n 'srai',\n 'ssage',\n 'sses',\n 'stargate',\n 'started',\n 'steacks',\n 'steadicam',\n 'steadycam',\n 'steh',\n 'suici',\n 'swear',\n 'sère',\n 'taff',\n 'taffs',\n 'tah',\n 'tahan',\n 'tainp',\n 'tamien',\n 'tards',\n 'tazzent',\n 'tchoin',\n 'tchoins',\n 'tehr',\n 'tej',\n 'teush',\n \"tiek'\",\n 'timal',\n 'timent',\n 'timps',\n 'touchy',\n 'tout-par',\n \"tout-par'\",\n 'touzes',\n 'trash',\n 'trom',\n 'tter',\n 'tées',\n 'téma',\n 'uh',\n 'uld',\n 'veuchs',\n 'vever',\n 'vibe',\n 'villezer',\n 'violètise',\n 'véritableJe',\n 'wack',\n 'wacks',\n 'wah',\n 'wesh',\n 'wouah',\n 'wow',\n 'yep',\n 'yeuks',\n 'youpiyeah',\n 'youpiyo',\n 'yous',\n 'z`dsv',\n 'zbar',\n 'zdeh',\n 'zeille',\n 'zenné',\n 'zer',\n 'zet',\n 'zicos',\n 'Évoluchienne',\n 'égotrip'}"
     },
     "execution_count": 42,
     "metadata": {},
     "output_type": "execute_result"
    }
   ],
   "source": [
    "neologismes\n"
   ],
   "metadata": {
    "collapsed": false,
    "ExecuteTime": {
     "start_time": "2023-04-13T13:53:56.700157Z",
     "end_time": "2023-04-13T13:53:56.703716Z"
    }
   }
  },
  {
   "cell_type": "code",
   "execution_count": 42,
   "outputs": [],
   "source": [],
   "metadata": {
    "collapsed": false,
    "ExecuteTime": {
     "start_time": "2023-04-13T13:53:56.704081Z",
     "end_time": "2023-04-13T13:53:56.705677Z"
    }
   }
  }
 ],
 "metadata": {
  "kernelspec": {
   "display_name": "Python 3",
   "language": "python",
   "name": "python3"
  },
  "language_info": {
   "codemirror_mode": {
    "name": "ipython",
    "version": 2
   },
   "file_extension": ".py",
   "mimetype": "text/x-python",
   "name": "python",
   "nbconvert_exporter": "python",
   "pygments_lexer": "ipython2",
   "version": "2.7.6"
  }
 },
 "nbformat": 4,
 "nbformat_minor": 0
}
