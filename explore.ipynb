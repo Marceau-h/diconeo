{
 "cells": [
  {
   "cell_type": "code",
   "execution_count": 51,
   "metadata": {
    "collapsed": true,
    "ExecuteTime": {
     "end_time": "2023-05-04T09:18:26.332598944Z",
     "start_time": "2023-05-04T09:18:26.222772318Z"
    }
   },
   "outputs": [
    {
     "data": {
      "text/plain": "                                                                                    songs   \nLyrics_all/Lyrics_113.json              {, [A.P]\\nLaisse-moi me mettre classe\\nParfum ...  \\\nLyrics_all/Lyrics_13Block.json          {, , [Paroles de \"Pente noire\"]\\n\\n[Intro : Ol...   \nLyrics_all/Lyrics_A2H.json              {, [Couplet 1]\\nT'as tout c'que j'aime : eye-l...   \nLyrics_all/Lyrics_AlainSouchon.json     {Mon papa qui venait me border\\nMoi, déjà, dan...   \nLyrics_all/Lyrics_Alizée.json           {[Couplet 1]\\nDe t'attendre\\nSi c'est ainsi\\nM...   \n...                                                                                   ...   \nLyrics_all/Lyrics_VéroniqueSanson.json  {[Couplet 1]\\nJe descends de l'avion et tu pre...   \nLyrics_all/Lyrics_Wallen.json           {[Intro]\\nWallen, Sulee B. Yo Dj Kost okay Gol...   \nLyrics_all/Lyrics_YannickNoah.json      {, , , [Verse 1]\\nThis morning I woke up in a ...   \nLyrics_all/Lyrics_ÉdithPiaf.json        {, Il me vient par la fen? Tre\\nDes musiques d...   \nLyrics_all/Lyrics_ÉtienneDaho.json      {, , Traîner sur le port ce soir\\nJe dormirai ...   \n\n                                                                              neologismes   \nLyrics_all/Lyrics_113.json              [veuchs, hlali, ramsafernick, schlasser, hachk...  \\\nLyrics_all/Lyrics_13Block.json          [khalé, comprende, zdeb, téco, wallaye, murder...   \nLyrics_all/Lyrics_A2H.json              [pathai, chill, patatent, wacks, ayyy, niggas,...   \nLyrics_all/Lyrics_AlainSouchon.json     [hachem, nirs, lullaby, sunrise, lullap, boxie...   \nLyrics_all/Lyrics_Alizée.json           [allá, lullaby, crying, hide, goldfish, dreams...   \n...                                                                                   ...   \nLyrics_all/Lyrics_VéroniqueSanson.json  [guess, allá, around, stranger, seem, ojos, sw...   \nLyrics_all/Lyrics_Wallen.json           [mejor, neighborhood, oueldi, guest, cheytan, ...   \nLyrics_all/Lyrics_YannickNoah.json      [someone, madingwa, hide, bought, yène, destro...   \nLyrics_all/Lyrics_ÉdithPiaf.json        [immensit, hide, towns, fabriqu, constell, vid...   \nLyrics_all/Lyrics_ÉtienneDaho.json      [seduz, mournful, dap, crying, hide, clothes, ...   \n\n                                                                                   genres   \nLyrics_all/Lyrics_113.json                                    [Hip-hop, Hip-hop_français]  \\\nLyrics_all/Lyrics_13Block.json                                                         []   \nLyrics_all/Lyrics_A2H.json                                                             []   \nLyrics_all/Lyrics_AlainSouchon.json                                   [Chanson_française]   \nLyrics_all/Lyrics_Alizée.json           [Musique_de_variétés, Musique_électronique, Po...   \n...                                                                                   ...   \nLyrics_all/Lyrics_VéroniqueSanson.json  [Chanson_française, Musique_de_variétés, Musiq...   \nLyrics_all/Lyrics_Wallen.json                                 [Hip-hop, RnB_contemporain]   \nLyrics_all/Lyrics_YannickNoah.json      [Ballade, Funk, Musique_de_variétés, Musiques_...   \nLyrics_all/Lyrics_ÉdithPiaf.json           [Chanson_française, Chanson_réaliste, Q805130]   \nLyrics_all/Lyrics_ÉtienneDaho.json      [Electro, New_wave, Pop_(musique), Pop_psychéd...   \n\n                                                             date   \nLyrics_all/Lyrics_113.json             2005-02-02 21:28:38.181818  \\\nLyrics_all/Lyrics_13Block.json         2018-02-11 22:49:49.285714   \nLyrics_all/Lyrics_A2H.json             2017-04-23 23:27:48.292683   \nLyrics_all/Lyrics_AlainSouchon.json    1996-03-04 14:00:00.000000   \nLyrics_all/Lyrics_Alizée.json          2006-09-07 05:03:31.764706   \n...                                                           ...   \nLyrics_all/Lyrics_VéroniqueSanson.json 1987-10-15 00:31:38.630137   \nLyrics_all/Lyrics_Wallen.json          2005-02-17 14:40:30.000000   \nLyrics_all/Lyrics_YannickNoah.json     2007-09-10 14:38:55.135135   \nLyrics_all/Lyrics_ÉdithPiaf.json       1951-05-31 12:50:00.000000   \nLyrics_all/Lyrics_ÉtienneDaho.json     1992-01-06 15:05:36.000000   \n\n                                                    noms   \nLyrics_all/Lyrics_113.json                           113  \\\nLyrics_all/Lyrics_13Block.json                   13Block   \nLyrics_all/Lyrics_A2H.json                           A2H   \nLyrics_all/Lyrics_AlainSouchon.json        Alain_Souchon   \nLyrics_all/Lyrics_Alizée.json                     Alizée   \n...                                                  ...   \nLyrics_all/Lyrics_VéroniqueSanson.json  Véronique_Sanson   \nLyrics_all/Lyrics_Wallen.json                     Wallen   \nLyrics_all/Lyrics_YannickNoah.json          Yannick_Noah   \nLyrics_all/Lyrics_ÉdithPiaf.json              Édith_Piaf   \nLyrics_all/Lyrics_ÉtienneDaho.json          Étienne_Daho   \n\n                                                                                 neo_freq  \nLyrics_all/Lyrics_113.json              {'veuchs': 1, 'hlali': 1, 'ramsafernick': 1, '...  \nLyrics_all/Lyrics_13Block.json          {'khalé': 1, 'comprende': 1, 'zdeb': 1, 'téco'...  \nLyrics_all/Lyrics_A2H.json              {'pathai': 1, 'chill': 1, 'patatent': 1, 'wack...  \nLyrics_all/Lyrics_AlainSouchon.json     {'hachem': 1, 'nirs': 1, 'lullaby': 1, 'sunris...  \nLyrics_all/Lyrics_Alizée.json           {'allá': 1, 'lullaby': 1, 'crying': 1, 'hide':...  \n...                                                                                   ...  \nLyrics_all/Lyrics_VéroniqueSanson.json  {'guess': 1, 'allá': 1, 'around': 1, 'stranger...  \nLyrics_all/Lyrics_Wallen.json           {'mejor': 1, 'neighborhood': 1, 'oueldi': 1, '...  \nLyrics_all/Lyrics_YannickNoah.json      {'someone': 1, 'madingwa': 1, 'hide': 1, 'boug...  \nLyrics_all/Lyrics_ÉdithPiaf.json        {'immensit': 1, 'hide': 1, 'towns': 1, 'fabriq...  \nLyrics_all/Lyrics_ÉtienneDaho.json      {'seduz': 1, 'mournful': 1, 'dap': 1, 'crying'...  \n\n[127 rows x 6 columns]",
      "text/html": "<div>\n<style scoped>\n    .dataframe tbody tr th:only-of-type {\n        vertical-align: middle;\n    }\n\n    .dataframe tbody tr th {\n        vertical-align: top;\n    }\n\n    .dataframe thead th {\n        text-align: right;\n    }\n</style>\n<table border=\"1\" class=\"dataframe\">\n  <thead>\n    <tr style=\"text-align: right;\">\n      <th></th>\n      <th>songs</th>\n      <th>neologismes</th>\n      <th>genres</th>\n      <th>date</th>\n      <th>noms</th>\n      <th>neo_freq</th>\n    </tr>\n  </thead>\n  <tbody>\n    <tr>\n      <th>Lyrics_all/Lyrics_113.json</th>\n      <td>{, [A.P]\\nLaisse-moi me mettre classe\\nParfum ...</td>\n      <td>[veuchs, hlali, ramsafernick, schlasser, hachk...</td>\n      <td>[Hip-hop, Hip-hop_français]</td>\n      <td>2005-02-02 21:28:38.181818</td>\n      <td>113</td>\n      <td>{'veuchs': 1, 'hlali': 1, 'ramsafernick': 1, '...</td>\n    </tr>\n    <tr>\n      <th>Lyrics_all/Lyrics_13Block.json</th>\n      <td>{, , [Paroles de \"Pente noire\"]\\n\\n[Intro : Ol...</td>\n      <td>[khalé, comprende, zdeb, téco, wallaye, murder...</td>\n      <td>[]</td>\n      <td>2018-02-11 22:49:49.285714</td>\n      <td>13Block</td>\n      <td>{'khalé': 1, 'comprende': 1, 'zdeb': 1, 'téco'...</td>\n    </tr>\n    <tr>\n      <th>Lyrics_all/Lyrics_A2H.json</th>\n      <td>{, [Couplet 1]\\nT'as tout c'que j'aime : eye-l...</td>\n      <td>[pathai, chill, patatent, wacks, ayyy, niggas,...</td>\n      <td>[]</td>\n      <td>2017-04-23 23:27:48.292683</td>\n      <td>A2H</td>\n      <td>{'pathai': 1, 'chill': 1, 'patatent': 1, 'wack...</td>\n    </tr>\n    <tr>\n      <th>Lyrics_all/Lyrics_AlainSouchon.json</th>\n      <td>{Mon papa qui venait me border\\nMoi, déjà, dan...</td>\n      <td>[hachem, nirs, lullaby, sunrise, lullap, boxie...</td>\n      <td>[Chanson_française]</td>\n      <td>1996-03-04 14:00:00.000000</td>\n      <td>Alain_Souchon</td>\n      <td>{'hachem': 1, 'nirs': 1, 'lullaby': 1, 'sunris...</td>\n    </tr>\n    <tr>\n      <th>Lyrics_all/Lyrics_Alizée.json</th>\n      <td>{[Couplet 1]\\nDe t'attendre\\nSi c'est ainsi\\nM...</td>\n      <td>[allá, lullaby, crying, hide, goldfish, dreams...</td>\n      <td>[Musique_de_variétés, Musique_électronique, Po...</td>\n      <td>2006-09-07 05:03:31.764706</td>\n      <td>Alizée</td>\n      <td>{'allá': 1, 'lullaby': 1, 'crying': 1, 'hide':...</td>\n    </tr>\n    <tr>\n      <th>...</th>\n      <td>...</td>\n      <td>...</td>\n      <td>...</td>\n      <td>...</td>\n      <td>...</td>\n      <td>...</td>\n    </tr>\n    <tr>\n      <th>Lyrics_all/Lyrics_VéroniqueSanson.json</th>\n      <td>{[Couplet 1]\\nJe descends de l'avion et tu pre...</td>\n      <td>[guess, allá, around, stranger, seem, ojos, sw...</td>\n      <td>[Chanson_française, Musique_de_variétés, Musiq...</td>\n      <td>1987-10-15 00:31:38.630137</td>\n      <td>Véronique_Sanson</td>\n      <td>{'guess': 1, 'allá': 1, 'around': 1, 'stranger...</td>\n    </tr>\n    <tr>\n      <th>Lyrics_all/Lyrics_Wallen.json</th>\n      <td>{[Intro]\\nWallen, Sulee B. Yo Dj Kost okay Gol...</td>\n      <td>[mejor, neighborhood, oueldi, guest, cheytan, ...</td>\n      <td>[Hip-hop, RnB_contemporain]</td>\n      <td>2005-02-17 14:40:30.000000</td>\n      <td>Wallen</td>\n      <td>{'mejor': 1, 'neighborhood': 1, 'oueldi': 1, '...</td>\n    </tr>\n    <tr>\n      <th>Lyrics_all/Lyrics_YannickNoah.json</th>\n      <td>{, , , [Verse 1]\\nThis morning I woke up in a ...</td>\n      <td>[someone, madingwa, hide, bought, yène, destro...</td>\n      <td>[Ballade, Funk, Musique_de_variétés, Musiques_...</td>\n      <td>2007-09-10 14:38:55.135135</td>\n      <td>Yannick_Noah</td>\n      <td>{'someone': 1, 'madingwa': 1, 'hide': 1, 'boug...</td>\n    </tr>\n    <tr>\n      <th>Lyrics_all/Lyrics_ÉdithPiaf.json</th>\n      <td>{, Il me vient par la fen? Tre\\nDes musiques d...</td>\n      <td>[immensit, hide, towns, fabriqu, constell, vid...</td>\n      <td>[Chanson_française, Chanson_réaliste, Q805130]</td>\n      <td>1951-05-31 12:50:00.000000</td>\n      <td>Édith_Piaf</td>\n      <td>{'immensit': 1, 'hide': 1, 'towns': 1, 'fabriq...</td>\n    </tr>\n    <tr>\n      <th>Lyrics_all/Lyrics_ÉtienneDaho.json</th>\n      <td>{, , Traîner sur le port ce soir\\nJe dormirai ...</td>\n      <td>[seduz, mournful, dap, crying, hide, clothes, ...</td>\n      <td>[Electro, New_wave, Pop_(musique), Pop_psychéd...</td>\n      <td>1992-01-06 15:05:36.000000</td>\n      <td>Étienne_Daho</td>\n      <td>{'seduz': 1, 'mournful': 1, 'dap': 1, 'crying'...</td>\n    </tr>\n  </tbody>\n</table>\n<p>127 rows × 6 columns</p>\n</div>"
     },
     "execution_count": 51,
     "metadata": {},
     "output_type": "execute_result"
    }
   ],
   "source": [
    "import pandas as pd\n",
    "\n",
    "df_artistes_neo_fr = pd.read_pickle(\"df_artistes_neo_fr_cleansed.pkl\")\n",
    "\n",
    "df_artistes_neo_fr\n"
   ]
  },
  {
   "cell_type": "code",
   "execution_count": 68,
   "outputs": [
    {
     "name": "stdout",
     "output_type": "stream",
     "text": [
      "18 109\n",
      "122\n"
     ]
    }
   ],
   "source": [
    "count = 0\n",
    "count2 = 0\n",
    "allgenres = set()\n",
    "for e in df_artistes_neo_fr[\"genres\"]:\n",
    "    allgenres.update(e)\n",
    "    if e == []:\n",
    "        count += 1\n",
    "    else:\n",
    "        count2 += 1\n",
    "\n",
    "print(count, count2)\n",
    "print(len(allgenres))\n",
    "temp = set()\n",
    "for e in allgenres:\n",
    "    e = e.replace(\"_\", \" \")\n",
    "    e = e.split(\"(\")[0]\n",
    "    e = e.strip()\n",
    "    if e[0] == \"Q\" and e[1:].isdigit():\n",
    "        continue\n",
    "\n",
    "    temp.add(e)\n",
    "\n",
    "# print(temp)\n"
   ],
   "metadata": {
    "collapsed": false,
    "ExecuteTime": {
     "end_time": "2023-05-04T11:28:12.933005158Z",
     "start_time": "2023-05-04T11:28:12.891955812Z"
    }
   }
  },
  {
   "cell_type": "code",
   "execution_count": null,
   "outputs": [],
   "source": [
    "correspondances = {\n",
    "    \"Troll rap\": \"Rap\",\n",
    "    \"Electronica\": \"Electro\",\n",
    "    \"Synthpop\": \"Electro\",\n",
    "    \"Chanson humoristique\": \"Humoristique\",\n",
    "    \"Chanson traditionnelle\": \"Variété\",\n",
    "    \"Rock\": \"Rock\",\n",
    "    \"Power ballad\": \"Rock\",\n",
    "    \"Easy listening\": \"Jazz\",\n",
    "    \"Cloud rap\": \"Rap\",\n",
    "    \"Gospel\": \"Gospel\",\n",
    "    \"Nouvelle\": \"Bruit\",\n",
    "    \"Dirty rap\": \"Rap\",\n",
    "    \"Afropop\": \"Monde\",\n",
    "    \"Rap rock\": \"Rap\",\n",
    "    \"Musiques du monde\": \"Monde\",\n",
    "    \"Rumba\": \"Variété\",\n",
    "    \"Chanson réaliste\": \"Variété\",\n",
    "    \"Big beat\": \"Electro\",\n",
    "    \"Bossa nova\": \"Variété\",\n",
    "    \"Death metal\": \"Metal\",\n",
    "    \"Chanson\": \"Variété\",\n",
    "    \"Ska\": \"Jazz\",\n",
    "    \"Pop psychédélique\": \"Pop\",\n",
    "    \"Hard rock\": \"Rock\",\n",
    "    \"Pop-rap\": \"Rap\",\n",
    "    \"Indie pop\": \"Pop\",\n",
    "    \"New age\": \"Variété\",\n",
    "    \"Musique arabe\": \"Monde\",\n",
    "    \"Grunge\": \"Rock\",\n",
    "    \"Hip-hop français\": \"Rap\",\n",
    "    \"Musique soul\": \"Jazz\",\n",
    "    \"Metal alternatif\": \"Metal\",\n",
    "    \"Horrorcore\": \"Rap\",\n",
    "    \"Spoken word\": \"Variété\",\n",
    "    \"Skiffle\": \"Jazz\",\n",
    "    \"Musique expérimentale\": \"Variété\",\n",
    "    \"Electronic dance music\": \"Electro\",\n",
    "    \"Pop latino\": \"Pop\",\n",
    "    \"Country rock\": \"Rock\",\n",
    "    \"Rap politique\": \"Rap\",\n",
    "    \"Breakbeat\": \"Electro\",\n",
    "    \"Musique alternative\": \"Variété\",\n",
    "    \"New wave\": \"Rock\",\n",
    "    \"Chanson française\": \"Variété\",\n",
    "    \"Punk rock\": \"Rock\",\n",
    "    \"Cha-cha-cha\": \"Monde\",\n",
    "    \"Musique country\": \"Variété\",\n",
    "    \"Rap metal\": \"Rap\",\n",
    "    \"Musique humoristique\": \"Humoristique\",\n",
    "    \"Rock 'n' roll\": \"Rock\",\n",
    "    \"Comedy hip hop\": \"Rap\",\n",
    "    \"New prog\": \"Rock\",\n",
    "    \"Musique folk\": \"Variété\",\n",
    "    \"Latin jazz\": \"Jazz\",\n",
    "    \"Musique populaire\": \"Pop\",\n",
    "    \"Jazz\": \"Jazz\",\n",
    "    \"Compositeur\": \"Bruit\",\n",
    "    \"Opéra pop\": \"Pop\",\n",
    "    \"Opéra\": \"Classique\",\n",
    "    \"Pop rock\": \"Rock\",\n",
    "    \"Hip-hop sud-coréen\": \"Rap\",\n",
    "    \"Musique de variétés\": \"Variété\",\n",
    "    \"Pop française\": \"Pop\",\n",
    "    \"Ballade\": \"Variété\",\n",
    "    \"Funk\": \"Jazz\",\n",
    "    \"Chanson bretonne\": \"Variété\",\n",
    "    \"Ragga\": \"Rap\",\n",
    "    \"Mambo\": \"Monde\",\n",
    "    \"Musique bretonne\": \"Variété\",\n",
    "    \"Urban\": \"Rap\",\n",
    "    \"Rhythm and blues\": \"Rap\",\n",
    "    \"Rock indépendant\": \"Rock\",\n",
    "    \"Rock psychédélique\": \"Rock\",\n",
    "    \"Afro trap\": \"Rap\",\n",
    "    \"Cinéma\": \"Bruit\",\n",
    "    \"Pop\": \"Pop\",\n",
    "    \"Rock celtique\": \"Rock\",\n",
    "    \"Raï\": \"Monde\",\n",
    "    \"Post-punk\": \"Rock\",\n",
    "    \"Théâtre\": \"Bruit\",\n",
    "    \"Hip-hop\": \"Rap\",\n",
    "    \"Rap hardcore\": \"Rap\",\n",
    "    \"Rock alternatif\": \"Rock\",\n",
    "    \"Gangsta rap\": \"Rap\",\n",
    "    \"Afrobeat\": \"Rap\",\n",
    "    \"Musique classique\": \"Classique\",\n",
    "    \"Flamenco\": \"Monde\",\n",
    "    \"Rock progressif\": \"Rock\",\n",
    "    \"Fusion\": \"Rock\",\n",
    "    \"Poésie\": \"Bruit\",\n",
    "    \"RnB contemporain\": \"Rap\",\n",
    "    \"Musique électronique\": \"Electro\",\n",
    "    \"Blues\": \"Jazz\",\n",
    "    \"Electro\": \"Electro\",\n",
    "    \"Punk hardcore\": \"Rock\",\n",
    "    \"Metal industriel\": \"Metal\",\n",
    "    \"Yéyé\": \"Variété\",\n",
    "    \"Folk rock\": \"Rock\",\n",
    "    \"Drill\": \"Rap\",\n",
    "    \"Rock français\": \"Rock\",\n",
    "    \"Disco\": \"Variété\",\n",
    "    \"Reggae\": \"Monde\",\n",
    "    \"Trap\": \"Rap\",\n",
    "    \"Rock néo-progressif\": \"Rock\",\n",
    "    \"Hip-hop alternatif\": \"Rap\",\n",
    "    \"Jazz fusion\": \"Jazz\",\n",
    "    \"Rap emo\": \"Rap\",\n",
    "    \"Nu metal\": \"Metal\",\n",
    "    \"Rap\": \"Rap\",\n",
    "    \"Blues rock\": \"Rock\",\n",
    "    \"Humour\": \"Humoristique\",\n",
    "    \"Groove metal\": \"Metal\",\n",
    "    \"Slam\": \"Variété\",\n",
    "    \"Heavy metal\": \"Metal\",\n",
    "    \"Trip hop\": \"Electro\",\n",
    "    \"Musique celtique\": \"Variété\",\n",
    "}\n"
   ],
   "metadata": {
    "collapsed": false
   }
  }
 ],
 "metadata": {
  "kernelspec": {
   "display_name": "Python 3",
   "language": "python",
   "name": "python3"
  },
  "language_info": {
   "codemirror_mode": {
    "name": "ipython",
    "version": 2
   },
   "file_extension": ".py",
   "mimetype": "text/x-python",
   "name": "python",
   "nbconvert_exporter": "python",
   "pygments_lexer": "ipython2",
   "version": "2.7.6"
  }
 },
 "nbformat": 4,
 "nbformat_minor": 0
}
