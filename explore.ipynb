{
 "cells": [
  {
   "cell_type": "code",
   "execution_count": 32,
   "metadata": {
    "collapsed": true,
    "ExecuteTime": {
     "end_time": "2023-05-02T13:12:06.308690799Z",
     "start_time": "2023-05-02T13:12:06.059383833Z"
    }
   },
   "outputs": [
    {
     "data": {
      "text/plain": "                                                                                 songs   \nLyrics_all/Lyrics_113.json           {, , [A.P]\\nLaisse-moi me mettre classe\\nParfu...  \\\nLyrics_all/Lyrics_13Block.json       {[Paroles de \"Affaires\"]\\n\\n[Intro]\\nJunior Al...   \nLyrics_all/Lyrics_A2H.json           {, , , [Refrain 1]\\nJ'entends : \"A2, tu devrai...   \nLyrics_all/Lyrics_AlainSouchon.json  {Les caresses et les baisers par dix\\nQu'on vo...   \nLyrics_all/Lyrics_Alizée.json        {, , Bye bye\\nPlus de bye bye non\\nQue des ret...   \n...                                                                                ...   \nLyrics_all/Lyrics_Wallen.json        {[Intro]\\nWallen, Sulee B. Yo Dj Kost okay Gol...   \nLyrics_all/Lyrics_YannickNoah.json   {[Couplet 1]\\nQui a guidé mes pas, un beau jou...   \nLyrics_all/Lyrics_Zazie.json         {, Je ne me lasse, ne me lasse pas de voir\\nDa...   \nLyrics_all/Lyrics_ÉdithPiaf.json     {[Couplet 1]\\nIl avait de grands yeux très cla...   \nLyrics_all/Lyrics_ÉtienneDaho.json   {Philtre d'amour\\nEt contre-jour\\nVagues sur n...   \n\n                                                                           neologismes   \nLyrics_all/Lyrics_113.json           {Spaggiari, Warlem, pétardeuse, walio, Weah, B...  \\\nLyrics_all/Lyrics_13Block.json       {palpage, khlass, intestino, fucked, Draxou, b...   \nLyrics_all/Lyrics_A2H.json           {Oxmo, fucked, durag, bunny, huh, Holybrune, r...   \nLyrics_all/Lyrics_AlainSouchon.json  {Katze, Lancôme, lullaby, sunrise, Timberland,...   \nLyrics_all/Lyrics_Alizée.json        {avioir, podrás, sting, makes, Draoua, sixteen...   \n...                                                                                ...   \nLyrics_all/Lyrics_Wallen.json        {wah, injunto, Cariño, outro, makes, Strausz, ...   \nLyrics_all/Lyrics_YannickNoah.json   {Yène, Woy, wooe, Aiming, bucket, curfew, brou...   \nLyrics_all/Lyrics_Zazie.json         {Shantala, loops, lovers, Hooo, Djamel, Loane,...   \nLyrics_all/Lyrics_ÉdithPiaf.json     {malgr, sauvagage, Hension, fabriqu, sunburned...   \nLyrics_all/Lyrics_ÉtienneDaho.json   {dewdrop, daddy, Anytime, trying, forever, dap...   \n\n                                                                                genres   \nLyrics_all/Lyrics_113.json                                 [Hip-hop, Hip-hop_français]  \\\nLyrics_all/Lyrics_13Block.json                                                      []   \nLyrics_all/Lyrics_A2H.json                                                          []   \nLyrics_all/Lyrics_AlainSouchon.json                                [Chanson_française]   \nLyrics_all/Lyrics_Alizée.json        [Musique_de_variétés, Musique_électronique, Po...   \n...                                                                                ...   \nLyrics_all/Lyrics_Wallen.json                              [Hip-hop, RnB_contemporain]   \nLyrics_all/Lyrics_YannickNoah.json   [Ballade, Funk, Musique_de_variétés, Musiques_...   \nLyrics_all/Lyrics_Zazie.json         [Chanson_française, Electropop, Pop_(musique),...   \nLyrics_all/Lyrics_ÉdithPiaf.json        [Chanson_française, Chanson_réaliste, Q805130]   \nLyrics_all/Lyrics_ÉtienneDaho.json   [Electro, New_wave, Pop_(musique), Pop_psychéd...   \n\n                                                          date           noms  \nLyrics_all/Lyrics_113.json          2005-02-02 21:28:38.181818            113  \nLyrics_all/Lyrics_13Block.json      2018-02-11 22:49:49.285714        13Block  \nLyrics_all/Lyrics_A2H.json          2017-04-23 23:27:48.292683            A2H  \nLyrics_all/Lyrics_AlainSouchon.json 1996-03-04 14:00:00.000000  Alain_Souchon  \nLyrics_all/Lyrics_Alizée.json       2006-09-07 05:03:31.764706         Alizée  \n...                                                        ...            ...  \nLyrics_all/Lyrics_Wallen.json       2005-02-17 14:40:30.000000         Wallen  \nLyrics_all/Lyrics_YannickNoah.json  2007-09-10 14:38:55.135135   Yannick_Noah  \nLyrics_all/Lyrics_Zazie.json        2005-08-07 08:02:10.434783          Zazie  \nLyrics_all/Lyrics_ÉdithPiaf.json    1951-05-31 12:50:00.000000     Édith_Piaf  \nLyrics_all/Lyrics_ÉtienneDaho.json  1992-01-06 15:05:36.000000   Étienne_Daho  \n\n[129 rows x 5 columns]",
      "text/html": "<div>\n<style scoped>\n    .dataframe tbody tr th:only-of-type {\n        vertical-align: middle;\n    }\n\n    .dataframe tbody tr th {\n        vertical-align: top;\n    }\n\n    .dataframe thead th {\n        text-align: right;\n    }\n</style>\n<table border=\"1\" class=\"dataframe\">\n  <thead>\n    <tr style=\"text-align: right;\">\n      <th></th>\n      <th>songs</th>\n      <th>neologismes</th>\n      <th>genres</th>\n      <th>date</th>\n      <th>noms</th>\n    </tr>\n  </thead>\n  <tbody>\n    <tr>\n      <th>Lyrics_all/Lyrics_113.json</th>\n      <td>{, , [A.P]\\nLaisse-moi me mettre classe\\nParfu...</td>\n      <td>{Spaggiari, Warlem, pétardeuse, walio, Weah, B...</td>\n      <td>[Hip-hop, Hip-hop_français]</td>\n      <td>2005-02-02 21:28:38.181818</td>\n      <td>113</td>\n    </tr>\n    <tr>\n      <th>Lyrics_all/Lyrics_13Block.json</th>\n      <td>{[Paroles de \"Affaires\"]\\n\\n[Intro]\\nJunior Al...</td>\n      <td>{palpage, khlass, intestino, fucked, Draxou, b...</td>\n      <td>[]</td>\n      <td>2018-02-11 22:49:49.285714</td>\n      <td>13Block</td>\n    </tr>\n    <tr>\n      <th>Lyrics_all/Lyrics_A2H.json</th>\n      <td>{, , , [Refrain 1]\\nJ'entends : \"A2, tu devrai...</td>\n      <td>{Oxmo, fucked, durag, bunny, huh, Holybrune, r...</td>\n      <td>[]</td>\n      <td>2017-04-23 23:27:48.292683</td>\n      <td>A2H</td>\n    </tr>\n    <tr>\n      <th>Lyrics_all/Lyrics_AlainSouchon.json</th>\n      <td>{Les caresses et les baisers par dix\\nQu'on vo...</td>\n      <td>{Katze, Lancôme, lullaby, sunrise, Timberland,...</td>\n      <td>[Chanson_française]</td>\n      <td>1996-03-04 14:00:00.000000</td>\n      <td>Alain_Souchon</td>\n    </tr>\n    <tr>\n      <th>Lyrics_all/Lyrics_Alizée.json</th>\n      <td>{, , Bye bye\\nPlus de bye bye non\\nQue des ret...</td>\n      <td>{avioir, podrás, sting, makes, Draoua, sixteen...</td>\n      <td>[Musique_de_variétés, Musique_électronique, Po...</td>\n      <td>2006-09-07 05:03:31.764706</td>\n      <td>Alizée</td>\n    </tr>\n    <tr>\n      <th>...</th>\n      <td>...</td>\n      <td>...</td>\n      <td>...</td>\n      <td>...</td>\n      <td>...</td>\n    </tr>\n    <tr>\n      <th>Lyrics_all/Lyrics_Wallen.json</th>\n      <td>{[Intro]\\nWallen, Sulee B. Yo Dj Kost okay Gol...</td>\n      <td>{wah, injunto, Cariño, outro, makes, Strausz, ...</td>\n      <td>[Hip-hop, RnB_contemporain]</td>\n      <td>2005-02-17 14:40:30.000000</td>\n      <td>Wallen</td>\n    </tr>\n    <tr>\n      <th>Lyrics_all/Lyrics_YannickNoah.json</th>\n      <td>{[Couplet 1]\\nQui a guidé mes pas, un beau jou...</td>\n      <td>{Yène, Woy, wooe, Aiming, bucket, curfew, brou...</td>\n      <td>[Ballade, Funk, Musique_de_variétés, Musiques_...</td>\n      <td>2007-09-10 14:38:55.135135</td>\n      <td>Yannick_Noah</td>\n    </tr>\n    <tr>\n      <th>Lyrics_all/Lyrics_Zazie.json</th>\n      <td>{, Je ne me lasse, ne me lasse pas de voir\\nDa...</td>\n      <td>{Shantala, loops, lovers, Hooo, Djamel, Loane,...</td>\n      <td>[Chanson_française, Electropop, Pop_(musique),...</td>\n      <td>2005-08-07 08:02:10.434783</td>\n      <td>Zazie</td>\n    </tr>\n    <tr>\n      <th>Lyrics_all/Lyrics_ÉdithPiaf.json</th>\n      <td>{[Couplet 1]\\nIl avait de grands yeux très cla...</td>\n      <td>{malgr, sauvagage, Hension, fabriqu, sunburned...</td>\n      <td>[Chanson_française, Chanson_réaliste, Q805130]</td>\n      <td>1951-05-31 12:50:00.000000</td>\n      <td>Édith_Piaf</td>\n    </tr>\n    <tr>\n      <th>Lyrics_all/Lyrics_ÉtienneDaho.json</th>\n      <td>{Philtre d'amour\\nEt contre-jour\\nVagues sur n...</td>\n      <td>{dewdrop, daddy, Anytime, trying, forever, dap...</td>\n      <td>[Electro, New_wave, Pop_(musique), Pop_psychéd...</td>\n      <td>1992-01-06 15:05:36.000000</td>\n      <td>Étienne_Daho</td>\n    </tr>\n  </tbody>\n</table>\n<p>129 rows × 5 columns</p>\n</div>"
     },
     "execution_count": 32,
     "metadata": {},
     "output_type": "execute_result"
    }
   ],
   "source": [
    "import pandas as pd\n",
    "\n",
    "df_artistes_neo_fr = pd.read_pickle(\"df_artistes_neo_fr.pkl\")\n",
    "# df_artistes_neo_fr.dropna(subset=[\"date\"], inplace=True)\n",
    "\n",
    "df_artistes_neo_fr"
   ]
  },
  {
   "cell_type": "code",
   "execution_count": 34,
   "outputs": [
    {
     "name": "stdout",
     "output_type": "stream",
     "text": [
      "113 {'Spaggiari', 'Warlem', 'pétardeuse', 'walio', 'Weah', 'Boney', 'Armageddon', 'Scarface', 'zid', 'hachkak', 'ghzali', 'Yémma', 'Khouya', 'skonk', 'Relou', 'ffff', 'sken', 'Snatch', 'Gotcha', 'blah', 'barrio', 'Wah', 'Yadelali', 'Bamakossa', 'Jumeirah', 'Vito', 'mhak', 'Spurs', 'Raizet', 'misstmout', 'Karim', 'Gwada', 'hellouf', 'intèrieur', 'MTV', 'strange', 'chard', 'Abdelreman', 'Rocheteau', 'Feudar', 'taff', 'Bilal', 'réformels', 'glawis', 'gazouz', 'Mokem', 'vibe', 'Goult', 'Boulémat', 'brinks', 'kiliani', 'Basten', 'hachem', 'roudmie', 'déguène', 'Kingston', 'Didic', 'fuck', 'goulich', 'fight', 'MCs', 'Playstation', 'Woodstock', 'habs', 'Bakari', 'gamoss', 'Groland', 'omnipesant', 'trappu', 'Bilel', 'babtous', 'hashich', 'Hummm', 'wah', 'rastaman', 'Mobb', 'offishal', 'hlali', 'kondés', 'lêve', 'Schumacher', 'Moujob', 'Haze', 'soce', 'khaaliss', 'ressucitent', 'chebba', 'Salaam', 'Daddy', 'opés', 'vélib', 'bouledé', 'cainfris', 'Troutman', 'acccord', 'refré', 'sexyte', 'seubad', 'tmenit', 'tièks', 'Wahran', 'wesh', 'raptor', 'Corleone', 'Heineken', 'charb', 'Dubai', 'fouleks', 'Deep', 'cainfri', 'Blacko', 'Rizzla', 'jperde', 'Mokobama', 'licepo', 'rijali', 'RimK', 'Tati', 'Mokobé', 'Cobain', 'CENSON', 'trash', 'rah', 'Kost', 'arlbi', 'Bubble', 'préfèrais', 'racailleux', 'tiéxon', 'hight', 'Imani', 'blackos', 'conseillaire', 'GPS', 'Travolta', 'rhamé', 'robineterie', 'Dhabi', 'coktails', 'Raïbé', 'Pattaya', 'endir', 'Musulin', 'Larson', 'travs', 'hagra', 'swidad', 'Snoop', 'nehich', 'rhami', 'Fuck', 'gunshot', 'ahyate', 'Aalik', 'Splintcell', 'Wesh', 'hbali', 'halila', 'tetkiyef', 'nchoufek', 'counard', 'poukaves', 'MPC', 'SDF', 'Thuram', 'galaé', 'biffs', 'Redskin', 'Djam', 'ahh', 'Foufs', 'Teep', 'atey', 'Handek', 'déboufonne', 'tabère', 'didics', 'Cheesy', 'Belek', 'tah', 'Flight', 'Serious', 'Abrahamovitch', 'mista', 'tomtom', 'Mesrines', 'woï', 'cabure', 'Jte', 'aieeeeeeeeeee', 'Zahouania', 'clandos', 'llet', 'hebs', 'Disneyland', 'méssage', 'Sheraton', 'Kery', 'khelani', 'Béjaïa', 'Ramzy', 'shtar', 'krel', 'Karsher', 'bledi', 'Tahar', 'youv', 'tej', 'Karlito', 'daleh', 'Mabrouk', 'Boissart', 'tafini', 'Baumet', 'Frénésik', 'zmen', 'koualé', 'Aaaahhhh', 'foulecks', 'Rayban', 'Bsartek', 'veuchs', 'roco', 'spliff', 'keuss', 'Betocodie', 'Cypress', 'Sarko', 'yencli', 'gangsta', 'Shehal', 'bsartek', 'rhmal', 'Tijuana', 'effémère', 'rali', 'gazs', 'Timal', 'keufs', 'Schumi', 'Koweït', 'ieup', 'Spliff', 'bails', 'rhinami', 'Larry', 'foncedé', 'yous', 'Outro', 'Mory', 'THC', 'Robocop', 'marocco', 'Rakim', 'direà', 'Rocé', 'youths', 'koubayo', 'crew', 'Massey', 'nbri', 'timals', 'barrios', 'tilivision', 'schlasser', 'chorba', 'bess', 'Rohff', 'Mamadou', 'Fight', 'spliffs', 'Barial', 'Gullit', 'alongside', 'Selecto', 'gardav', 'Dogg', 'Debbouze', 'ghett', 'drah', 'Dreamcast', 'Mista', 'Ketama', 'feurtass', 'Mokobe', 'ramsafernick', 'seum', 'Flynt', 'roloto', 'Zitoun', 'Emirates', 'Zidane', 'Wailo', 'tkoni', 'guliers', 'Azzaro', 'THX', 'Jahson', 'Madinina', 'Tharfini', 'Gossip', 'tchourai', 'Frénésiques', 'Youssouf', 'OGB', 'badboy', 'Jamel', 'Fnacs', 'Cheb', 'Nicky', 'botox', 'Bergevin', 'jbeul', 'Raffarin', 'sêcher', 'reti', 'Wled', 'Atmen', 'ngoul', 'Ohohoh'} 2005-02-02 21:28:38.181818\n"
     ]
    },
    {
     "ename": "ZeroDivisionError",
     "evalue": "division by zero",
     "output_type": "error",
     "traceback": [
      "\u001B[0;31m---------------------------------------------------------------------------\u001B[0m",
      "\u001B[0;31mZeroDivisionError\u001B[0m                         Traceback (most recent call last)",
      "Cell \u001B[0;32mIn[34], line 3\u001B[0m\n\u001B[1;32m      1\u001B[0m \u001B[38;5;28;01mfor\u001B[39;00m nom, neo, date \u001B[38;5;129;01min\u001B[39;00m \u001B[38;5;28mzip\u001B[39m(df_artistes_neo_fr[\u001B[38;5;124m\"\u001B[39m\u001B[38;5;124mnoms\u001B[39m\u001B[38;5;124m\"\u001B[39m], df_artistes_neo_fr[\u001B[38;5;124m\"\u001B[39m\u001B[38;5;124mneologismes\u001B[39m\u001B[38;5;124m\"\u001B[39m], df_artistes_neo_fr[\u001B[38;5;124m\"\u001B[39m\u001B[38;5;124mdate\u001B[39m\u001B[38;5;124m\"\u001B[39m]):\n\u001B[1;32m      2\u001B[0m     \u001B[38;5;28mprint\u001B[39m(nom, neo, date)\n\u001B[0;32m----> 3\u001B[0m     \u001B[38;5;241;43m1\u001B[39;49m\u001B[38;5;241;43m/\u001B[39;49m\u001B[38;5;241;43m0\u001B[39;49m\n",
      "\u001B[0;31mZeroDivisionError\u001B[0m: division by zero"
     ]
    }
   ],
   "source": [
    "for nom, neo, date in zip(df_artistes_neo_fr[\"noms\"], df_artistes_neo_fr[\"neologismes\"], df_artistes_neo_fr[\"date\"]):\n",
    "    print(nom, neo, date)\n",
    "    1/0\n"
   ],
   "metadata": {
    "collapsed": false,
    "ExecuteTime": {
     "end_time": "2023-05-02T13:15:31.274941913Z",
     "start_time": "2023-05-02T13:15:31.232532788Z"
    }
   }
  }
 ],
 "metadata": {
  "kernelspec": {
   "display_name": "Python 3",
   "language": "python",
   "name": "python3"
  },
  "language_info": {
   "codemirror_mode": {
    "name": "ipython",
    "version": 2
   },
   "file_extension": ".py",
   "mimetype": "text/x-python",
   "name": "python",
   "nbconvert_exporter": "python",
   "pygments_lexer": "ipython2",
   "version": "2.7.6"
  }
 },
 "nbformat": 4,
 "nbformat_minor": 0
}
