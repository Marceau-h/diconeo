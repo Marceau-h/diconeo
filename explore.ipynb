{
 "cells": [
  {
   "cell_type": "code",
   "execution_count": 1,
   "metadata": {
    "collapsed": true,
    "ExecuteTime": {
     "end_time": "2023-05-03T07:27:32.060163768Z",
     "start_time": "2023-05-03T07:27:31.549546187Z"
    }
   },
   "outputs": [
    {
     "data": {
      "text/plain": "                                                                                 songs   \nLyrics_all/Lyrics_113.json           {, [Intro : Rim'K]\\nLa recette c'est 2 feuille...  \\\nLyrics_all/Lyrics_13Block.json       {[Intro : Zefor]\\nViolence Urbaine Émeute\\nC'e...   \nLyrics_all/Lyrics_A2H.json           {[Introduction : Deen Burbigo]\\nNever never di...   \nLyrics_all/Lyrics_AlainSouchon.json  {, Je sais bien que, rue d'Belleville\\nRien n'...   \nLyrics_all/Lyrics_Alizée.json        {Assise sur mon tas d’autocritique\\nJe me pose...   \n...                                                                                ...   \nLyrics_all/Lyrics_Wallen.json        {Maman m'a dit que je fasse attention à qui je...   \nLyrics_all/Lyrics_YannickNoah.json   {We're jamming\\nI wanna jam it with you\\nWe're...   \nLyrics_all/Lyrics_Zazie.json         {Oh mais qu'est-ce qu'il leur prend\\nA se batt...   \nLyrics_all/Lyrics_ÉdithPiaf.json     {,           \\n            Lyrics for this son...   \nLyrics_all/Lyrics_ÉtienneDaho.json   {, Il y a une porte dans le désert\\nThere is t...   \n\n                                                                           neologismes   \nLyrics_all/Lyrics_113.json           {Rayban, charb, THX, MPC, Madinina, wesh, cheb...  \\\nLyrics_all/Lyrics_13Block.json       {wow, Oooooohhhhhh, Rooney, fucking, yessaï, m...   \nLyrics_all/Lyrics_A2H.json           {sahid, escort, pétou, Chicken, TexAvery, MPC,...   \nLyrics_all/Lyrics_AlainSouchon.json  {Lancel, Kookaï, KGB, Vancleef, lullaby, dorrn...   \nLyrics_all/Lyrics_Alizée.json        {amarás, stubborn, floating, treasures, cynics...   \n...                                                                                ...   \nLyrics_all/Lyrics_Wallen.json        {Falkone, prometo, conozco, trâme, dowlow, SMS...   \nLyrics_all/Lyrics_YannickNoah.json   {Dreams, wanna, Madingwa, djenga, Kingston, Wa...   \nLyrics_all/Lyrics_Zazie.json         {loops, Gainsbarrent, selfies, ohhh, Keïko, oo...   \nLyrics_all/Lyrics_ÉdithPiaf.json     {left, pniches, forlorn, Treinte, Chait, Malgr...   \nLyrics_all/Lyrics_ÉtienneDaho.json   {cynoques, Watching, dedicated, looked, worry,...   \n\n                                                                                genres   \nLyrics_all/Lyrics_113.json                                 [Hip-hop, Hip-hop_français]  \\\nLyrics_all/Lyrics_13Block.json                                                      []   \nLyrics_all/Lyrics_A2H.json                                                          []   \nLyrics_all/Lyrics_AlainSouchon.json                                [Chanson_française]   \nLyrics_all/Lyrics_Alizée.json        [Musique_de_variétés, Musique_électronique, Po...   \n...                                                                                ...   \nLyrics_all/Lyrics_Wallen.json                              [Hip-hop, RnB_contemporain]   \nLyrics_all/Lyrics_YannickNoah.json   [Ballade, Funk, Musique_de_variétés, Musiques_...   \nLyrics_all/Lyrics_Zazie.json         [Chanson_française, Electropop, Pop_(musique),...   \nLyrics_all/Lyrics_ÉdithPiaf.json        [Chanson_française, Chanson_réaliste, Q805130]   \nLyrics_all/Lyrics_ÉtienneDaho.json   [Electro, New_wave, Pop_(musique), Pop_psychéd...   \n\n                                                          date           noms  \nLyrics_all/Lyrics_113.json          2005-02-02 21:28:38.181818            113  \nLyrics_all/Lyrics_13Block.json      2018-02-11 22:49:49.285714        13Block  \nLyrics_all/Lyrics_A2H.json          2017-04-23 23:27:48.292683            A2H  \nLyrics_all/Lyrics_AlainSouchon.json 1996-03-04 14:00:00.000000  Alain_Souchon  \nLyrics_all/Lyrics_Alizée.json       2006-09-07 05:03:31.764706         Alizée  \n...                                                        ...            ...  \nLyrics_all/Lyrics_Wallen.json       2005-02-17 14:40:30.000000         Wallen  \nLyrics_all/Lyrics_YannickNoah.json  2007-09-10 14:38:55.135135   Yannick_Noah  \nLyrics_all/Lyrics_Zazie.json        2005-08-07 08:02:10.434783          Zazie  \nLyrics_all/Lyrics_ÉdithPiaf.json    1951-05-31 12:50:00.000000     Édith_Piaf  \nLyrics_all/Lyrics_ÉtienneDaho.json  1992-01-06 15:05:36.000000   Étienne_Daho  \n\n[129 rows x 5 columns]",
      "text/html": "<div>\n<style scoped>\n    .dataframe tbody tr th:only-of-type {\n        vertical-align: middle;\n    }\n\n    .dataframe tbody tr th {\n        vertical-align: top;\n    }\n\n    .dataframe thead th {\n        text-align: right;\n    }\n</style>\n<table border=\"1\" class=\"dataframe\">\n  <thead>\n    <tr style=\"text-align: right;\">\n      <th></th>\n      <th>songs</th>\n      <th>neologismes</th>\n      <th>genres</th>\n      <th>date</th>\n      <th>noms</th>\n    </tr>\n  </thead>\n  <tbody>\n    <tr>\n      <th>Lyrics_all/Lyrics_113.json</th>\n      <td>{, [Intro : Rim'K]\\nLa recette c'est 2 feuille...</td>\n      <td>{Rayban, charb, THX, MPC, Madinina, wesh, cheb...</td>\n      <td>[Hip-hop, Hip-hop_français]</td>\n      <td>2005-02-02 21:28:38.181818</td>\n      <td>113</td>\n    </tr>\n    <tr>\n      <th>Lyrics_all/Lyrics_13Block.json</th>\n      <td>{[Intro : Zefor]\\nViolence Urbaine Émeute\\nC'e...</td>\n      <td>{wow, Oooooohhhhhh, Rooney, fucking, yessaï, m...</td>\n      <td>[]</td>\n      <td>2018-02-11 22:49:49.285714</td>\n      <td>13Block</td>\n    </tr>\n    <tr>\n      <th>Lyrics_all/Lyrics_A2H.json</th>\n      <td>{[Introduction : Deen Burbigo]\\nNever never di...</td>\n      <td>{sahid, escort, pétou, Chicken, TexAvery, MPC,...</td>\n      <td>[]</td>\n      <td>2017-04-23 23:27:48.292683</td>\n      <td>A2H</td>\n    </tr>\n    <tr>\n      <th>Lyrics_all/Lyrics_AlainSouchon.json</th>\n      <td>{, Je sais bien que, rue d'Belleville\\nRien n'...</td>\n      <td>{Lancel, Kookaï, KGB, Vancleef, lullaby, dorrn...</td>\n      <td>[Chanson_française]</td>\n      <td>1996-03-04 14:00:00.000000</td>\n      <td>Alain_Souchon</td>\n    </tr>\n    <tr>\n      <th>Lyrics_all/Lyrics_Alizée.json</th>\n      <td>{Assise sur mon tas d’autocritique\\nJe me pose...</td>\n      <td>{amarás, stubborn, floating, treasures, cynics...</td>\n      <td>[Musique_de_variétés, Musique_électronique, Po...</td>\n      <td>2006-09-07 05:03:31.764706</td>\n      <td>Alizée</td>\n    </tr>\n    <tr>\n      <th>...</th>\n      <td>...</td>\n      <td>...</td>\n      <td>...</td>\n      <td>...</td>\n      <td>...</td>\n    </tr>\n    <tr>\n      <th>Lyrics_all/Lyrics_Wallen.json</th>\n      <td>{Maman m'a dit que je fasse attention à qui je...</td>\n      <td>{Falkone, prometo, conozco, trâme, dowlow, SMS...</td>\n      <td>[Hip-hop, RnB_contemporain]</td>\n      <td>2005-02-17 14:40:30.000000</td>\n      <td>Wallen</td>\n    </tr>\n    <tr>\n      <th>Lyrics_all/Lyrics_YannickNoah.json</th>\n      <td>{We're jamming\\nI wanna jam it with you\\nWe're...</td>\n      <td>{Dreams, wanna, Madingwa, djenga, Kingston, Wa...</td>\n      <td>[Ballade, Funk, Musique_de_variétés, Musiques_...</td>\n      <td>2007-09-10 14:38:55.135135</td>\n      <td>Yannick_Noah</td>\n    </tr>\n    <tr>\n      <th>Lyrics_all/Lyrics_Zazie.json</th>\n      <td>{Oh mais qu'est-ce qu'il leur prend\\nA se batt...</td>\n      <td>{loops, Gainsbarrent, selfies, ohhh, Keïko, oo...</td>\n      <td>[Chanson_française, Electropop, Pop_(musique),...</td>\n      <td>2005-08-07 08:02:10.434783</td>\n      <td>Zazie</td>\n    </tr>\n    <tr>\n      <th>Lyrics_all/Lyrics_ÉdithPiaf.json</th>\n      <td>{,           \\n            Lyrics for this son...</td>\n      <td>{left, pniches, forlorn, Treinte, Chait, Malgr...</td>\n      <td>[Chanson_française, Chanson_réaliste, Q805130]</td>\n      <td>1951-05-31 12:50:00.000000</td>\n      <td>Édith_Piaf</td>\n    </tr>\n    <tr>\n      <th>Lyrics_all/Lyrics_ÉtienneDaho.json</th>\n      <td>{, Il y a une porte dans le désert\\nThere is t...</td>\n      <td>{cynoques, Watching, dedicated, looked, worry,...</td>\n      <td>[Electro, New_wave, Pop_(musique), Pop_psychéd...</td>\n      <td>1992-01-06 15:05:36.000000</td>\n      <td>Étienne_Daho</td>\n    </tr>\n  </tbody>\n</table>\n<p>129 rows × 5 columns</p>\n</div>"
     },
     "execution_count": 1,
     "metadata": {},
     "output_type": "execute_result"
    }
   ],
   "source": [
    "import pandas as pd\n",
    "\n",
    "df_artistes_neo_fr = pd.read_pickle(\"df_artistes_neo_fr.pkl\")\n",
    "# df_artistes_neo_fr.dropna(subset=[\"date\"], inplace=True)\n",
    "\n",
    "df_artistes_neo_fr"
   ]
  },
  {
   "cell_type": "code",
   "execution_count": 2,
   "outputs": [
    {
     "name": "stdout",
     "output_type": "stream",
     "text": [
      "113 {'Rayban', 'charb', 'THX', 'MPC', 'Madinina', 'wesh', 'chebba', 'zid', 'glawis', 'bledi', 'Abdelreman', 'trash', 'tilivision', 'Groland', 'SDF', 'Relou', 'daleh', 'Spaggiari', 'Mabrouk', 'licepo', 'hbali', 'khelani', 'badboy', 'raptor', 'Cobain', 'Wled', 'Serious', 'Mokobé', 'Jte', 'Tahar', 'Karlito', 'goulich', 'Deep', 'llet', 'fuck', 'bouledé', 'habs', 'gangsta', 'Larry', 'nbri', 'Schumi', 'Troutman', 'Playstation', 'yous', 'OGB', 'Gwada', 'hachem', 'hight', 'Aalik', 'Dubai', 'Bilel', 'tabère', 'Debbouze', 'Feudar', 'swidad', 'Woodstock', 'shtar', 'cainfri', 'Tharfini', 'vélib', 'Larson', 'méssage', 'Rocheteau', 'THC', 'Mesrines', 'Handek', 'direà', 'tomtom', 'youths', 'Cheb', 'Zitoun', 'timals', 'lêve', 'Karsher', 'chorba', 'offishal', 'Corleone', 'Shehal', 'kondés', 'Heineken', 'clandos', 'Basten', 'drah', 'Karim', 'Timal', 'MTV', 'Imani', 'hlali', 'reti', 'tièks', 'Rakim', 'Bergevin', 'Pattaya', 'ghzali', 'Wah', 'ahyate', 'hellouf', 'Kery', 'Armageddon', 'Sarko', 'Djam', 'kiliani', 'marocco', 'spliffs', 'effémère', 'Haze', 'Gotcha', 'Barial', 'Mista', 'Atmen', 'Snatch', 'roudmie', 'travs', 'Bubble', 'Boissart', 'coktails', 'Spurs', 'blah', 'Flynt', 'brinks', 'foncedé', 'Raïbé', 'Teep', 'tkoni', 'Hummm', 'Abrahamovitch', 'guliers', 'refré', 'Scarface', 'hachkak', 'sken', 'tah', 'RimK', 'botox', 'Schumacher', 'Raffarin', 'Salaam', 'Cypress', 'Tati', 'ressucitent', 'biffs', 'krel', 'tchourai', 'yencli', 'arlbi', 'bails', 'Yémma', 'blackos', 'Boulémat', 'Jamel', 'tiéxon', 'Bsartek', 'gardav', 'Mokobama', 'Tijuana', 'Rohff', 'skonk', 'Flight', 'Bakari', 'rali', 'foulecks', 'trappu', 'Kingston', 'jbeul', 'halila', 'Disneyland', 'omnipesant', 'MCs', 'bsartek', 'Mokem', 'Azzaro', 'Sheraton', 'keuss', 'Musulin', 'rhamé', 'Béjaïa', 'Spliff', 'Emirates', 'Jahson', 'atey', 'poukaves', 'Gullit', 'Daddy', 'Fnacs', 'wah', 'walio', 'fight', 'alongside', 'Splintcell', 'seum', 'Warlem', 'ngoul', 'intèrieur', 'ffff', 'déboufonne', 'Aaaahhhh', 'vibe', 'Goult', 'Youssouf', 'Vito', 'conseillaire', 'Fuck', 'Blacko', 'ieup', 'soce', 'Thuram', 'crew', 'fouleks', 'Rocé', 'Mamadou', 'counard', 'hashich', 'roloto', 'tafini', 'gamoss', 'woï', 'Belek', 'Frénésiques', 'cabure', 'Rizzla', 'Moujob', 'gunshot', 'sexyte', 'Nicky', 'keufs', 'galaé', 'Raizet', 'koubayo', 'Bamakossa', 'Zidane', 'seubad', 'spliff', 'zmen', 'Outro', 'tej', 'Baumet', 'rhinami', 'Ketama', 'rhami', 'khaaliss', 'taff', 'cainfris', 'mhak', 'préfèrais', 'mista', 'Selecto', 'Jumeirah', 'Foufs', 'gazs', 'racailleux', 'opés', 'Didic', 'Yadelali', 'rhmal', 'Boney', 'gazouz', 'Snoop', 'Ohohoh', 'Wahran', 'déguène', 'Dhabi', 'GPS', 'barrios', 'veuchs', 'rah', 'aieeeeeeeeeee', 'hagra', 'schlasser', 'CENSON', 'pétardeuse', 'koualé', 'didics', 'Cheesy', 'strange', 'Betocodie', 'ramsafernick', 'Khouya', 'feurtass', 'misstmout', 'Koweït', 'hebs', 'Fight', 'Redskin', 'Zahouania', 'ahh', 'Kost', 'rijali', 'Bilal', 'Dogg', 'Dreamcast', 'jperde', 'babtous', 'sêcher', 'Weah', 'Travolta', 'barrio', 'Mokobe', 'Frénésik', 'Wesh', 'Massey', 'chard', 'ghett', 'robineterie', 'Gossip', 'nehich', 'réformels', 'Mory', 'tetkiyef', 'bess', 'roco', 'Robocop', 'endir', 'rastaman', 'Wailo', 'tmenit', 'Ramzy', 'acccord', 'Mobb', 'nchoufek', 'youv'} 2005-02-02 21:28:38.181818\n"
     ]
    },
    {
     "ename": "ZeroDivisionError",
     "evalue": "division by zero",
     "output_type": "error",
     "traceback": [
      "\u001B[0;31m---------------------------------------------------------------------------\u001B[0m",
      "\u001B[0;31mZeroDivisionError\u001B[0m                         Traceback (most recent call last)",
      "Cell \u001B[0;32mIn[2], line 3\u001B[0m\n\u001B[1;32m      1\u001B[0m \u001B[38;5;28;01mfor\u001B[39;00m nom, neo, date \u001B[38;5;129;01min\u001B[39;00m \u001B[38;5;28mzip\u001B[39m(df_artistes_neo_fr[\u001B[38;5;124m\"\u001B[39m\u001B[38;5;124mnoms\u001B[39m\u001B[38;5;124m\"\u001B[39m], df_artistes_neo_fr[\u001B[38;5;124m\"\u001B[39m\u001B[38;5;124mneologismes\u001B[39m\u001B[38;5;124m\"\u001B[39m], df_artistes_neo_fr[\u001B[38;5;124m\"\u001B[39m\u001B[38;5;124mdate\u001B[39m\u001B[38;5;124m\"\u001B[39m]):\n\u001B[1;32m      2\u001B[0m     \u001B[38;5;28mprint\u001B[39m(nom, neo, date)\n\u001B[0;32m----> 3\u001B[0m     \u001B[38;5;241;43m1\u001B[39;49m\u001B[38;5;241;43m/\u001B[39;49m\u001B[38;5;241;43m0\u001B[39;49m\n",
      "\u001B[0;31mZeroDivisionError\u001B[0m: division by zero"
     ]
    }
   ],
   "source": [
    "for nom, neo, date in zip(df_artistes_neo_fr[\"noms\"], df_artistes_neo_fr[\"neologismes\"], df_artistes_neo_fr[\"date\"]):\n",
    "    print(nom, neo, date)\n",
    "    1/0\n"
   ],
   "metadata": {
    "collapsed": false,
    "ExecuteTime": {
     "end_time": "2023-05-03T07:27:32.267622710Z",
     "start_time": "2023-05-03T07:27:32.059296968Z"
    }
   }
  }
 ],
 "metadata": {
  "kernelspec": {
   "display_name": "Python 3",
   "language": "python",
   "name": "python3"
  },
  "language_info": {
   "codemirror_mode": {
    "name": "ipython",
    "version": 2
   },
   "file_extension": ".py",
   "mimetype": "text/x-python",
   "name": "python",
   "nbconvert_exporter": "python",
   "pygments_lexer": "ipython2",
   "version": "2.7.6"
  }
 },
 "nbformat": 4,
 "nbformat_minor": 0
}
