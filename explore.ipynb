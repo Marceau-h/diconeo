{
 "cells": [
  {
   "cell_type": "code",
   "execution_count": 8,
   "metadata": {
    "collapsed": true,
    "ExecuteTime": {
     "end_time": "2023-05-04T08:47:08.983470312Z",
     "start_time": "2023-05-04T08:47:08.824381322Z"
    }
   },
   "outputs": [
    {
     "data": {
      "text/plain": "                                                                                    songs   \nLyrics_all/Lyrics_113.json              {, [A.P]\\nLaisse-moi me mettre classe\\nParfum ...  \\\nLyrics_all/Lyrics_13Block.json          {, , [Paroles de \"Pente noire\"]\\n\\n[Intro : Ol...   \nLyrics_all/Lyrics_A2H.json              {, [Couplet 1]\\nT'as tout c'que j'aime : eye-l...   \nLyrics_all/Lyrics_AlainSouchon.json     {Mon papa qui venait me border\\nMoi, déjà, dan...   \nLyrics_all/Lyrics_Alizée.json           {[Couplet 1]\\nDe t'attendre\\nSi c'est ainsi\\nM...   \n...                                                                                   ...   \nLyrics_all/Lyrics_VéroniqueSanson.json  {, [Couplet 1]\\nJe descends de l'avion et tu p...   \nLyrics_all/Lyrics_Wallen.json           {[Intro]\\nWallen, Sulee B. Yo Dj Kost okay Gol...   \nLyrics_all/Lyrics_YannickNoah.json      {, , , [Verse 1]\\nThis morning I woke up in a ...   \nLyrics_all/Lyrics_ÉdithPiaf.json        {, Il me vient par la fen? Tre\\nDes musiques d...   \nLyrics_all/Lyrics_ÉtienneDaho.json      {, , Traîner sur le port ce soir\\nJe dormirai ...   \n\n                                                                              neologismes   \nLyrics_all/Lyrics_113.json              {seubad, Timal, roloto, mista, Mokobé, youths,...  \\\nLyrics_all/Lyrics_13Block.json          {stickos, pacter, fimin, keh, Olaskurt, implic...   \nLyrics_all/Lyrics_A2H.json              {fuego, Perignon, bougs, freaky, Lexo, friendl...   \nLyrics_all/Lyrics_AlainSouchon.json     {Arour, Silvano, Lubérons, Depardieu, Carita, ...   \nLyrics_all/Lyrics_Alizée.json           {sixty, tréso, heaven, Pretty, refraire, tú, p...   \n...                                                                                   ...   \nLyrics_all/Lyrics_VéroniqueSanson.json  {Mariavah, guess, allá, reqarde, Bokassa, Funn...   \nLyrics_all/Lyrics_Wallen.json           {Calbo, Sulee, Aaliyah, desaparecer, escojito,...   \nLyrics_all/Lyrics_YannickNoah.json      {tégui, Everywhere, Africans, vow, Didn, tébé,...   \nLyrics_all/Lyrics_ÉdithPiaf.json        {dcide, immensit, Harbor, heaven, Evermore, ne...   \nLyrics_all/Lyrics_ÉtienneDaho.json      {chup, dreams, Humm, Didn, anyplace, tej, Swim...   \n\n                                                                                   genres   \nLyrics_all/Lyrics_113.json                                    [Hip-hop, Hip-hop_français]  \\\nLyrics_all/Lyrics_13Block.json                                                         []   \nLyrics_all/Lyrics_A2H.json                                                             []   \nLyrics_all/Lyrics_AlainSouchon.json                                   [Chanson_française]   \nLyrics_all/Lyrics_Alizée.json           [Musique_de_variétés, Musique_électronique, Po...   \n...                                                                                   ...   \nLyrics_all/Lyrics_VéroniqueSanson.json  [Chanson_française, Musique_de_variétés, Musiq...   \nLyrics_all/Lyrics_Wallen.json                                 [Hip-hop, RnB_contemporain]   \nLyrics_all/Lyrics_YannickNoah.json      [Ballade, Funk, Musique_de_variétés, Musiques_...   \nLyrics_all/Lyrics_ÉdithPiaf.json           [Chanson_française, Chanson_réaliste, Q805130]   \nLyrics_all/Lyrics_ÉtienneDaho.json      [Electro, New_wave, Pop_(musique), Pop_psychéd...   \n\n                                                             date   \nLyrics_all/Lyrics_113.json             2005-02-02 21:28:38.181818  \\\nLyrics_all/Lyrics_13Block.json         2018-02-11 22:49:49.285714   \nLyrics_all/Lyrics_A2H.json             2017-04-23 23:27:48.292683   \nLyrics_all/Lyrics_AlainSouchon.json    1996-03-04 14:00:00.000000   \nLyrics_all/Lyrics_Alizée.json          2006-09-07 05:03:31.764706   \n...                                                           ...   \nLyrics_all/Lyrics_VéroniqueSanson.json 1987-10-15 00:31:38.630137   \nLyrics_all/Lyrics_Wallen.json          2005-02-17 14:40:30.000000   \nLyrics_all/Lyrics_YannickNoah.json     2007-09-10 14:38:55.135135   \nLyrics_all/Lyrics_ÉdithPiaf.json       1951-05-31 12:50:00.000000   \nLyrics_all/Lyrics_ÉtienneDaho.json     1992-01-06 15:05:36.000000   \n\n                                                    noms  \nLyrics_all/Lyrics_113.json                           113  \nLyrics_all/Lyrics_13Block.json                   13Block  \nLyrics_all/Lyrics_A2H.json                           A2H  \nLyrics_all/Lyrics_AlainSouchon.json        Alain_Souchon  \nLyrics_all/Lyrics_Alizée.json                     Alizée  \n...                                                  ...  \nLyrics_all/Lyrics_VéroniqueSanson.json  Véronique_Sanson  \nLyrics_all/Lyrics_Wallen.json                     Wallen  \nLyrics_all/Lyrics_YannickNoah.json          Yannick_Noah  \nLyrics_all/Lyrics_ÉdithPiaf.json              Édith_Piaf  \nLyrics_all/Lyrics_ÉtienneDaho.json          Étienne_Daho  \n\n[127 rows x 5 columns]",
      "text/html": "<div>\n<style scoped>\n    .dataframe tbody tr th:only-of-type {\n        vertical-align: middle;\n    }\n\n    .dataframe tbody tr th {\n        vertical-align: top;\n    }\n\n    .dataframe thead th {\n        text-align: right;\n    }\n</style>\n<table border=\"1\" class=\"dataframe\">\n  <thead>\n    <tr style=\"text-align: right;\">\n      <th></th>\n      <th>songs</th>\n      <th>neologismes</th>\n      <th>genres</th>\n      <th>date</th>\n      <th>noms</th>\n    </tr>\n  </thead>\n  <tbody>\n    <tr>\n      <th>Lyrics_all/Lyrics_113.json</th>\n      <td>{, [A.P]\\nLaisse-moi me mettre classe\\nParfum ...</td>\n      <td>{seubad, Timal, roloto, mista, Mokobé, youths,...</td>\n      <td>[Hip-hop, Hip-hop_français]</td>\n      <td>2005-02-02 21:28:38.181818</td>\n      <td>113</td>\n    </tr>\n    <tr>\n      <th>Lyrics_all/Lyrics_13Block.json</th>\n      <td>{, , [Paroles de \"Pente noire\"]\\n\\n[Intro : Ol...</td>\n      <td>{stickos, pacter, fimin, keh, Olaskurt, implic...</td>\n      <td>[]</td>\n      <td>2018-02-11 22:49:49.285714</td>\n      <td>13Block</td>\n    </tr>\n    <tr>\n      <th>Lyrics_all/Lyrics_A2H.json</th>\n      <td>{, [Couplet 1]\\nT'as tout c'que j'aime : eye-l...</td>\n      <td>{fuego, Perignon, bougs, freaky, Lexo, friendl...</td>\n      <td>[]</td>\n      <td>2017-04-23 23:27:48.292683</td>\n      <td>A2H</td>\n    </tr>\n    <tr>\n      <th>Lyrics_all/Lyrics_AlainSouchon.json</th>\n      <td>{Mon papa qui venait me border\\nMoi, déjà, dan...</td>\n      <td>{Arour, Silvano, Lubérons, Depardieu, Carita, ...</td>\n      <td>[Chanson_française]</td>\n      <td>1996-03-04 14:00:00.000000</td>\n      <td>Alain_Souchon</td>\n    </tr>\n    <tr>\n      <th>Lyrics_all/Lyrics_Alizée.json</th>\n      <td>{[Couplet 1]\\nDe t'attendre\\nSi c'est ainsi\\nM...</td>\n      <td>{sixty, tréso, heaven, Pretty, refraire, tú, p...</td>\n      <td>[Musique_de_variétés, Musique_électronique, Po...</td>\n      <td>2006-09-07 05:03:31.764706</td>\n      <td>Alizée</td>\n    </tr>\n    <tr>\n      <th>...</th>\n      <td>...</td>\n      <td>...</td>\n      <td>...</td>\n      <td>...</td>\n      <td>...</td>\n    </tr>\n    <tr>\n      <th>Lyrics_all/Lyrics_VéroniqueSanson.json</th>\n      <td>{, [Couplet 1]\\nJe descends de l'avion et tu p...</td>\n      <td>{Mariavah, guess, allá, reqarde, Bokassa, Funn...</td>\n      <td>[Chanson_française, Musique_de_variétés, Musiq...</td>\n      <td>1987-10-15 00:31:38.630137</td>\n      <td>Véronique_Sanson</td>\n    </tr>\n    <tr>\n      <th>Lyrics_all/Lyrics_Wallen.json</th>\n      <td>{[Intro]\\nWallen, Sulee B. Yo Dj Kost okay Gol...</td>\n      <td>{Calbo, Sulee, Aaliyah, desaparecer, escojito,...</td>\n      <td>[Hip-hop, RnB_contemporain]</td>\n      <td>2005-02-17 14:40:30.000000</td>\n      <td>Wallen</td>\n    </tr>\n    <tr>\n      <th>Lyrics_all/Lyrics_YannickNoah.json</th>\n      <td>{, , , [Verse 1]\\nThis morning I woke up in a ...</td>\n      <td>{tégui, Everywhere, Africans, vow, Didn, tébé,...</td>\n      <td>[Ballade, Funk, Musique_de_variétés, Musiques_...</td>\n      <td>2007-09-10 14:38:55.135135</td>\n      <td>Yannick_Noah</td>\n    </tr>\n    <tr>\n      <th>Lyrics_all/Lyrics_ÉdithPiaf.json</th>\n      <td>{, Il me vient par la fen? Tre\\nDes musiques d...</td>\n      <td>{dcide, immensit, Harbor, heaven, Evermore, ne...</td>\n      <td>[Chanson_française, Chanson_réaliste, Q805130]</td>\n      <td>1951-05-31 12:50:00.000000</td>\n      <td>Édith_Piaf</td>\n    </tr>\n    <tr>\n      <th>Lyrics_all/Lyrics_ÉtienneDaho.json</th>\n      <td>{, , Traîner sur le port ce soir\\nJe dormirai ...</td>\n      <td>{chup, dreams, Humm, Didn, anyplace, tej, Swim...</td>\n      <td>[Electro, New_wave, Pop_(musique), Pop_psychéd...</td>\n      <td>1992-01-06 15:05:36.000000</td>\n      <td>Étienne_Daho</td>\n    </tr>\n  </tbody>\n</table>\n<p>127 rows × 5 columns</p>\n</div>"
     },
     "execution_count": 8,
     "metadata": {},
     "output_type": "execute_result"
    }
   ],
   "source": [
    "import pandas as pd\n",
    "\n",
    "df_artistes_neo_fr = pd.read_pickle(\"df_artistes_neo_fr.pkl\")\n",
    "# df_artistes_neo_fr.dropna(subset=[\"date\"], inplace=True)\n",
    "\n",
    "df_artistes_neo_fr"
   ]
  },
  {
   "cell_type": "code",
   "execution_count": 9,
   "outputs": [
    {
     "name": "stdout",
     "output_type": "stream",
     "text": [
      "113 {'seubad', 'Timal', 'roloto', 'mista', 'Mokobé', 'youths', 'Tijuana', 'chebba', 'Wah', 'hachem', 'tah', 'yous', 'Moujob', 'Nicky', 'Disneyland', 'zid', 'brinks', 'conseillaire', 'feurtass', 'Bergevin', 'Karlito', 'llet', 'aieeeeeeeeeee', 'Debbouze', 'shtar', 'méssage', 'foulecks', 'Atmen', 'Bilal', 'glawis', 'hbali', 'nbri', 'Jumeirah', 'Cypress', 'hachkak', 'trappu', 'goulich', 'misstmout', 'Mamadou', 'Troutman', 'Redskin', 'raptor', 'Flynt', 'skonk', 'zmen', 'chorba', 'Mory', 'hashich', 'Sarko', 'cainfris', 'gazs', 'Meda', 'Imani', 'hellouf', 'rastaman', 'Schumi', 'Jte', 'bess', 'Frénésik', 'ieup', 'Wahran', 'Cheb', 'Béjaïa', 'mhak', 'Foufs', 'Koweït', 'Aalik', 'Hummm', 'fouleks', 'Gotcha', 'Dreamcast', 'poukaves', 'rhamé', 'crew', 'Emirates', 'blah', 'déguène', 'Robocop', 'bails', 'Rayban', 'cainfri', 'keufs', 'hebs', 'vélib', 'Salaam', 'tej', 'spliff', 'cabure', 'ghett', 'Deep', 'Fnacs', 'sêcher', 'khaaliss', 'Snatch', 'Ramzy', 'seum', 'Barial', 'Zidane', 'gangsta', 'nchoufek', 'travs', 'licepo', 'ramsafernick', 'Mobb', 'gunshot', 'Armageddon', 'sken', 'Djam', 'Shehal', 'youv', 'Ketama', 'Didic', 'hight', 'Mokem', 'tafini', 'Messi', 'atey', 'Bilel', 'opés', 'Sheraton', 'Mokobe', 'gamoss', 'rali', 'pétardeuse', 'badboy', 'swidad', 'Zahouania', 'counard', 'keuss', 'RimK', 'Booba', 'Boulémat', 'Scarface', 'Groland', 'sexyte', 'Frénésiques', 'khelani', 'tchourai', 'fuck', 'Belek', 'tabère', 'trash', 'Tati', 'Serious', 'timals', 'tilivision', 'ahyate', 'biffs', 'Wailo', 'Rocheteau', 'Tahar', 'robineterie', 'ngoul', 'rhami', 'effémère', 'Spurs', 'Corleone', 'bouledé', 'bledi', 'Vito', 'Mokobama', 'krel', 'refré', 'didics', 'roco', 'daleh', 'veuchs', 'kondés', 'Cheesy', 'Larson', 'Sega', 'kiliani', 'Wled', 'omnipesant', 'ghzali', 'Baumet', 'Playstation', 'coktails', 'Feudar', 'Blacko', 'spliffs', 'babtous', 'Gullit', 'lêve', 'Schumacher', 'tetkiyef', 'Raïbé', 'Madinina', 'gardav', 'Woodstock', 'tmenit', 'Khouya', 'Rizzla', 'Zitoun', 'hagra', 'endir', 'Travolta', 'Relou', 'galaé', 'botox', 'préfèrais', 'Gwada', 'barrio', 'fight', 'gazouz', 'walio', 'Gossip', 'drah', 'Jamel', 'Didics', 'Flight', 'jbeul', 'Yadelali', 'koualé', 'Bubble', 'Warlem', 'tomtom', 'Raffarin', 'jperde', 'rhinami', 'hlali', 'alongside', 'strange', 'guliers', 'chard', 'Selecto', 'blackos', 'Bamakossa', 'wesh', 'rijali', 'tkoni', 'taff', 'yencli', 'Kost', 'Fight', 'Betocodie', 'Spaggiari', 'Abdelreman', 'ressucitent', 'Daddy', 'Teep', 'Kery', 'halila', 'schlasser', 'Mesrines', 'Bakari', 'Cobain', 'nehich', 'Spliff', 'wah', 'foncedé', 'Bsartek', 'Haze', 'bsartek', 'Kingston', 'Mista', 'koubayo', 'réformels', 'Weah', 'intèrieur', 'Thuram', 'Tharfini', 'Yémma', 'Youssouf', 'woï', 'Basten', 'rhmal', 'déboufonne', 'Karim', 'tiek', 'Boney', 'Dubai', 'Snoop', 'acccord', 'Jahson', 'Rakim', 'Karsher', 'Rocé', 'Dhabi', 'clandos', 'offishal', 'Boissart', 'soce', 'Pattaya', 'Fuck', 'Rohff', 'marocco', 'tiéxon', 'Splintcell', 'racailleux', 'vibe', 'Dogg', 'Musulin', 'MCs', 'habs', 'Raizet', 'charb', 'rah', 'reti', 'Azzaro', 'tièks', 'Massey', 'Goult', 'Heineken', 'direà', 'roudmie', 'arlbi', 'Wesh', 'Larry', 'Mabrouk', 'Abrahamovitch', 'barrios', 'Handek'} 2005-02-02 21:28:38.181818\n"
     ]
    }
   ],
   "source": [
    "for nom, neo, date in zip(df_artistes_neo_fr[\"noms\"], df_artistes_neo_fr[\"neologismes\"], df_artistes_neo_fr[\"date\"]):\n",
    "    print(nom, neo, date)\n",
    "    break\n"
   ],
   "metadata": {
    "collapsed": false,
    "ExecuteTime": {
     "end_time": "2023-05-04T08:47:08.985864154Z",
     "start_time": "2023-05-04T08:47:08.984422835Z"
    }
   }
  },
  {
   "cell_type": "code",
   "execution_count": 10,
   "outputs": [
    {
     "data": {
      "text/plain": "                                                                                    songs   \nLyrics_all/Lyrics_113.json              {, [A.P]\\nLaisse-moi me mettre classe\\nParfum ...  \\\nLyrics_all/Lyrics_13Block.json          {, , [Paroles de \"Pente noire\"]\\n\\n[Intro : Ol...   \nLyrics_all/Lyrics_A2H.json              {, [Couplet 1]\\nT'as tout c'que j'aime : eye-l...   \nLyrics_all/Lyrics_AlainSouchon.json     {Mon papa qui venait me border\\nMoi, déjà, dan...   \nLyrics_all/Lyrics_Alizée.json           {[Couplet 1]\\nDe t'attendre\\nSi c'est ainsi\\nM...   \n...                                                                                   ...   \nLyrics_all/Lyrics_VéroniqueSanson.json  {, [Couplet 1]\\nJe descends de l'avion et tu p...   \nLyrics_all/Lyrics_Wallen.json           {[Intro]\\nWallen, Sulee B. Yo Dj Kost okay Gol...   \nLyrics_all/Lyrics_YannickNoah.json      {, , , [Verse 1]\\nThis morning I woke up in a ...   \nLyrics_all/Lyrics_ÉdithPiaf.json        {, Il me vient par la fen? Tre\\nDes musiques d...   \nLyrics_all/Lyrics_ÉtienneDaho.json      {, , Traîner sur le port ce soir\\nJe dormirai ...   \n\n                                                                              neologismes   \nLyrics_all/Lyrics_113.json              {seubad, Timal, roloto, mista, Mokobé, youths,...  \\\nLyrics_all/Lyrics_13Block.json          {stickos, pacter, fimin, keh, Olaskurt, implic...   \nLyrics_all/Lyrics_A2H.json              {fuego, Perignon, bougs, freaky, Lexo, friendl...   \nLyrics_all/Lyrics_AlainSouchon.json     {Arour, Silvano, Lubérons, Depardieu, Carita, ...   \nLyrics_all/Lyrics_Alizée.json           {sixty, tréso, heaven, Pretty, refraire, tú, p...   \n...                                                                                   ...   \nLyrics_all/Lyrics_VéroniqueSanson.json  {Mariavah, guess, allá, reqarde, Bokassa, Funn...   \nLyrics_all/Lyrics_Wallen.json           {Calbo, Sulee, Aaliyah, desaparecer, escojito,...   \nLyrics_all/Lyrics_YannickNoah.json      {tégui, Everywhere, Africans, vow, Didn, tébé,...   \nLyrics_all/Lyrics_ÉdithPiaf.json        {dcide, immensit, Harbor, heaven, Evermore, ne...   \nLyrics_all/Lyrics_ÉtienneDaho.json      {chup, dreams, Humm, Didn, anyplace, tej, Swim...   \n\n                                                                                   genres   \nLyrics_all/Lyrics_113.json                                    [Hip-hop, Hip-hop_français]  \\\nLyrics_all/Lyrics_13Block.json                                                         []   \nLyrics_all/Lyrics_A2H.json                                                             []   \nLyrics_all/Lyrics_AlainSouchon.json                                   [Chanson_française]   \nLyrics_all/Lyrics_Alizée.json           [Musique_de_variétés, Musique_électronique, Po...   \n...                                                                                   ...   \nLyrics_all/Lyrics_VéroniqueSanson.json  [Chanson_française, Musique_de_variétés, Musiq...   \nLyrics_all/Lyrics_Wallen.json                                 [Hip-hop, RnB_contemporain]   \nLyrics_all/Lyrics_YannickNoah.json      [Ballade, Funk, Musique_de_variétés, Musiques_...   \nLyrics_all/Lyrics_ÉdithPiaf.json           [Chanson_française, Chanson_réaliste, Q805130]   \nLyrics_all/Lyrics_ÉtienneDaho.json      [Electro, New_wave, Pop_(musique), Pop_psychéd...   \n\n                                                             date   \nLyrics_all/Lyrics_113.json             2005-02-02 21:28:38.181818  \\\nLyrics_all/Lyrics_13Block.json         2018-02-11 22:49:49.285714   \nLyrics_all/Lyrics_A2H.json             2017-04-23 23:27:48.292683   \nLyrics_all/Lyrics_AlainSouchon.json    1996-03-04 14:00:00.000000   \nLyrics_all/Lyrics_Alizée.json          2006-09-07 05:03:31.764706   \n...                                                           ...   \nLyrics_all/Lyrics_VéroniqueSanson.json 1987-10-15 00:31:38.630137   \nLyrics_all/Lyrics_Wallen.json          2005-02-17 14:40:30.000000   \nLyrics_all/Lyrics_YannickNoah.json     2007-09-10 14:38:55.135135   \nLyrics_all/Lyrics_ÉdithPiaf.json       1951-05-31 12:50:00.000000   \nLyrics_all/Lyrics_ÉtienneDaho.json     1992-01-06 15:05:36.000000   \n\n                                                    noms   \nLyrics_all/Lyrics_113.json                           113  \\\nLyrics_all/Lyrics_13Block.json                   13Block   \nLyrics_all/Lyrics_A2H.json                           A2H   \nLyrics_all/Lyrics_AlainSouchon.json        Alain_Souchon   \nLyrics_all/Lyrics_Alizée.json                     Alizée   \n...                                                  ...   \nLyrics_all/Lyrics_VéroniqueSanson.json  Véronique_Sanson   \nLyrics_all/Lyrics_Wallen.json                     Wallen   \nLyrics_all/Lyrics_YannickNoah.json          Yannick_Noah   \nLyrics_all/Lyrics_ÉdithPiaf.json              Édith_Piaf   \nLyrics_all/Lyrics_ÉtienneDaho.json          Étienne_Daho   \n\n                                                                                 neo_freq  \nLyrics_all/Lyrics_113.json              {'seubad': 1, 'Timal': 1, 'roloto': 1, 'mista'...  \nLyrics_all/Lyrics_13Block.json          {'stickos': 1, 'pacter': 1, 'fimin': 1, 'keh':...  \nLyrics_all/Lyrics_A2H.json              {'fuego': 1, 'Perignon': 1, 'bougs': 1, 'freak...  \nLyrics_all/Lyrics_AlainSouchon.json     {'Arour': 1, 'Silvano': 1, 'Lubérons': 1, 'Dep...  \nLyrics_all/Lyrics_Alizée.json           {'sixty': 1, 'tréso': 1, 'heaven': 1, 'Pretty'...  \n...                                                                                   ...  \nLyrics_all/Lyrics_VéroniqueSanson.json  {'Mariavah': 1, 'guess': 1, 'allá': 1, 'reqard...  \nLyrics_all/Lyrics_Wallen.json           {'Calbo': 1, 'Sulee': 1, 'Aaliyah': 1, 'desapa...  \nLyrics_all/Lyrics_YannickNoah.json      {'tégui': 1, 'Everywhere': 1, 'Africans': 1, '...  \nLyrics_all/Lyrics_ÉdithPiaf.json        {'dcide': 1, 'immensit': 1, 'Harbor': 1, 'heav...  \nLyrics_all/Lyrics_ÉtienneDaho.json      {'chup': 1, 'dreams': 1, 'Humm': 1, 'Didn': 1,...  \n\n[127 rows x 6 columns]",
      "text/html": "<div>\n<style scoped>\n    .dataframe tbody tr th:only-of-type {\n        vertical-align: middle;\n    }\n\n    .dataframe tbody tr th {\n        vertical-align: top;\n    }\n\n    .dataframe thead th {\n        text-align: right;\n    }\n</style>\n<table border=\"1\" class=\"dataframe\">\n  <thead>\n    <tr style=\"text-align: right;\">\n      <th></th>\n      <th>songs</th>\n      <th>neologismes</th>\n      <th>genres</th>\n      <th>date</th>\n      <th>noms</th>\n      <th>neo_freq</th>\n    </tr>\n  </thead>\n  <tbody>\n    <tr>\n      <th>Lyrics_all/Lyrics_113.json</th>\n      <td>{, [A.P]\\nLaisse-moi me mettre classe\\nParfum ...</td>\n      <td>{seubad, Timal, roloto, mista, Mokobé, youths,...</td>\n      <td>[Hip-hop, Hip-hop_français]</td>\n      <td>2005-02-02 21:28:38.181818</td>\n      <td>113</td>\n      <td>{'seubad': 1, 'Timal': 1, 'roloto': 1, 'mista'...</td>\n    </tr>\n    <tr>\n      <th>Lyrics_all/Lyrics_13Block.json</th>\n      <td>{, , [Paroles de \"Pente noire\"]\\n\\n[Intro : Ol...</td>\n      <td>{stickos, pacter, fimin, keh, Olaskurt, implic...</td>\n      <td>[]</td>\n      <td>2018-02-11 22:49:49.285714</td>\n      <td>13Block</td>\n      <td>{'stickos': 1, 'pacter': 1, 'fimin': 1, 'keh':...</td>\n    </tr>\n    <tr>\n      <th>Lyrics_all/Lyrics_A2H.json</th>\n      <td>{, [Couplet 1]\\nT'as tout c'que j'aime : eye-l...</td>\n      <td>{fuego, Perignon, bougs, freaky, Lexo, friendl...</td>\n      <td>[]</td>\n      <td>2017-04-23 23:27:48.292683</td>\n      <td>A2H</td>\n      <td>{'fuego': 1, 'Perignon': 1, 'bougs': 1, 'freak...</td>\n    </tr>\n    <tr>\n      <th>Lyrics_all/Lyrics_AlainSouchon.json</th>\n      <td>{Mon papa qui venait me border\\nMoi, déjà, dan...</td>\n      <td>{Arour, Silvano, Lubérons, Depardieu, Carita, ...</td>\n      <td>[Chanson_française]</td>\n      <td>1996-03-04 14:00:00.000000</td>\n      <td>Alain_Souchon</td>\n      <td>{'Arour': 1, 'Silvano': 1, 'Lubérons': 1, 'Dep...</td>\n    </tr>\n    <tr>\n      <th>Lyrics_all/Lyrics_Alizée.json</th>\n      <td>{[Couplet 1]\\nDe t'attendre\\nSi c'est ainsi\\nM...</td>\n      <td>{sixty, tréso, heaven, Pretty, refraire, tú, p...</td>\n      <td>[Musique_de_variétés, Musique_électronique, Po...</td>\n      <td>2006-09-07 05:03:31.764706</td>\n      <td>Alizée</td>\n      <td>{'sixty': 1, 'tréso': 1, 'heaven': 1, 'Pretty'...</td>\n    </tr>\n    <tr>\n      <th>...</th>\n      <td>...</td>\n      <td>...</td>\n      <td>...</td>\n      <td>...</td>\n      <td>...</td>\n      <td>...</td>\n    </tr>\n    <tr>\n      <th>Lyrics_all/Lyrics_VéroniqueSanson.json</th>\n      <td>{, [Couplet 1]\\nJe descends de l'avion et tu p...</td>\n      <td>{Mariavah, guess, allá, reqarde, Bokassa, Funn...</td>\n      <td>[Chanson_française, Musique_de_variétés, Musiq...</td>\n      <td>1987-10-15 00:31:38.630137</td>\n      <td>Véronique_Sanson</td>\n      <td>{'Mariavah': 1, 'guess': 1, 'allá': 1, 'reqard...</td>\n    </tr>\n    <tr>\n      <th>Lyrics_all/Lyrics_Wallen.json</th>\n      <td>{[Intro]\\nWallen, Sulee B. Yo Dj Kost okay Gol...</td>\n      <td>{Calbo, Sulee, Aaliyah, desaparecer, escojito,...</td>\n      <td>[Hip-hop, RnB_contemporain]</td>\n      <td>2005-02-17 14:40:30.000000</td>\n      <td>Wallen</td>\n      <td>{'Calbo': 1, 'Sulee': 1, 'Aaliyah': 1, 'desapa...</td>\n    </tr>\n    <tr>\n      <th>Lyrics_all/Lyrics_YannickNoah.json</th>\n      <td>{, , , [Verse 1]\\nThis morning I woke up in a ...</td>\n      <td>{tégui, Everywhere, Africans, vow, Didn, tébé,...</td>\n      <td>[Ballade, Funk, Musique_de_variétés, Musiques_...</td>\n      <td>2007-09-10 14:38:55.135135</td>\n      <td>Yannick_Noah</td>\n      <td>{'tégui': 1, 'Everywhere': 1, 'Africans': 1, '...</td>\n    </tr>\n    <tr>\n      <th>Lyrics_all/Lyrics_ÉdithPiaf.json</th>\n      <td>{, Il me vient par la fen? Tre\\nDes musiques d...</td>\n      <td>{dcide, immensit, Harbor, heaven, Evermore, ne...</td>\n      <td>[Chanson_française, Chanson_réaliste, Q805130]</td>\n      <td>1951-05-31 12:50:00.000000</td>\n      <td>Édith_Piaf</td>\n      <td>{'dcide': 1, 'immensit': 1, 'Harbor': 1, 'heav...</td>\n    </tr>\n    <tr>\n      <th>Lyrics_all/Lyrics_ÉtienneDaho.json</th>\n      <td>{, , Traîner sur le port ce soir\\nJe dormirai ...</td>\n      <td>{chup, dreams, Humm, Didn, anyplace, tej, Swim...</td>\n      <td>[Electro, New_wave, Pop_(musique), Pop_psychéd...</td>\n      <td>1992-01-06 15:05:36.000000</td>\n      <td>Étienne_Daho</td>\n      <td>{'chup': 1, 'dreams': 1, 'Humm': 1, 'Didn': 1,...</td>\n    </tr>\n  </tbody>\n</table>\n<p>127 rows × 6 columns</p>\n</div>"
     },
     "execution_count": 10,
     "metadata": {},
     "output_type": "execute_result"
    }
   ],
   "source": [
    "from collections import Counter\n",
    "\n",
    "def get_neo_freq(neo):\n",
    "    return Counter(neo)\n",
    "\n",
    "df_artistes_neo_fr[\"neo_freq\"] = df_artistes_neo_fr[\"neologismes\"].apply(get_neo_freq)\n",
    "\n",
    "df_artistes_neo_fr\n"
   ],
   "metadata": {
    "collapsed": false,
    "ExecuteTime": {
     "end_time": "2023-05-04T08:47:09.051067560Z",
     "start_time": "2023-05-04T08:47:08.986767280Z"
    }
   }
  },
  {
   "cell_type": "code",
   "execution_count": 11,
   "outputs": [
    {
     "data": {
      "text/plain": "[('fuck', 45),\n ('need', 42),\n ('Fuck', 41),\n ('wanna', 40),\n ('seum', 34),\n ('gonna', 34),\n ('around', 34),\n ('keufs', 32),\n ('bails', 31),\n ('wesh', 29),\n ('Wesh', 29),\n ('taff', 28),\n ('spliff', 26),\n ('remember', 26),\n ('hear', 26),\n ('tah', 25),\n ('bédo', 25),\n ('dark', 25),\n ('fight', 24),\n ('cettes', 24),\n ('makes', 24),\n ('tonight', 24),\n ('vibe', 23),\n ('bendo', 23),\n ('inspi', 23),\n ('déter', 23),\n ('inside', 23),\n ('crew', 22),\n ('nigga', 22),\n ('belek', 22),\n ('tieks', 21),\n ('peace', 21),\n ('cô', 20),\n ('deep', 20),\n ('lonely', 20),\n ('Sheitan', 20),\n ('Facebook', 20),\n ('MCs', 19),\n ('binks', 19),\n ('oim', 19),\n ('dreams', 19),\n ('left', 19),\n ('found', 19),\n ('Sarko', 18),\n ('gangsta', 18),\n ('sère', 18),\n ('Biggie', 18),\n ('keuf', 18),\n ('yah', 18),\n ('Versace', 18),\n ('ients', 18),\n ('floor', 18),\n ('pécho', 18),\n ('wanted', 18),\n ('someone', 18),\n ('Beretta', 17),\n ('kho', 17),\n ('fucking', 17),\n ('coming', 17),\n ('Rolex', 17),\n ('goodbye', 17),\n ('hide', 17),\n ('everyday', 17),\n ('hass', 17),\n ('wallah', 17),\n ('forever', 17),\n ('tears', 17),\n ('hebs', 16),\n ('gova', 16),\n ('boloss', 16),\n ('khey', 16),\n ('niggas', 16),\n ('bénéf', 16),\n ('gov', 16),\n ('réput', 16),\n ('selfie', 16),\n ('Welcome', 16),\n ('knows', 16),\n ('nobody', 16),\n ('enough', 16),\n ('waiting', 16),\n ('door', 16),\n ('shtar', 15),\n ('mif', 15),\n ('bitchs', 15),\n ('quiero', 15),\n ('kush', 15),\n ('khos', 15),\n ('might', 15),\n ('help', 15),\n ('above', 15),\n ('iPhone', 15),\n ('loved', 15),\n ('learn', 15),\n ('Messi', 14),\n ('babtous', 14),\n ('téma', 14),\n ('showcase', 14),\n ('perquis', 14),\n ('kicke', 14)]"
     },
     "execution_count": 11,
     "metadata": {},
     "output_type": "execute_result"
    }
   ],
   "source": [
    "allfreq = df_artistes_neo_fr[\"neo_freq\"].sum()\n",
    "allfreq.most_common(100)\n"
   ],
   "metadata": {
    "collapsed": false,
    "ExecuteTime": {
     "end_time": "2023-05-04T08:47:09.334022447Z",
     "start_time": "2023-05-04T08:47:09.039792332Z"
    }
   }
  },
  {
   "cell_type": "markdown",
   "source": [
    "capitalized = [word for word in allfreq if word[0].isupper()]\n",
    "capitalized\n"
   ],
   "metadata": {
    "collapsed": false
   }
  },
  {
   "cell_type": "markdown",
   "source": [
    "lowercase = [word for word in allfreq if word[0].islower()]\n",
    "lowered = [word.lower() for word in capitalized]\n",
    "\n",
    "for word in lowered:\n",
    "    if word in lowercase:\n",
    "        print(word)\n"
   ],
   "metadata": {
    "collapsed": false
   }
  },
  {
   "cell_type": "code",
   "execution_count": 12,
   "outputs": [],
   "source": [
    "notlower = [(word, freq) for word, freq in allfreq.items() if not word[0].islower()]\n"
   ],
   "metadata": {
    "collapsed": false,
    "ExecuteTime": {
     "end_time": "2023-05-04T08:47:09.339763172Z",
     "start_time": "2023-05-04T08:47:09.338551580Z"
    }
   }
  },
  {
   "cell_type": "code",
   "execution_count": 13,
   "outputs": [
    {
     "data": {
      "text/plain": "[('fuck', 86),\n ('wesh', 58),\n ('wanna', 46),\n ('need', 43),\n ('gonna', 38),\n ('around', 38),\n ('wallah', 36),\n ('belek', 35),\n ('seum', 34),\n ('dark', 34),\n ('sheitan', 33),\n ('nigga', 33),\n ('peace', 33),\n ('keufs', 32),\n ('bails', 31),\n ('spliff', 31),\n ('remember', 31),\n ('bendo', 30),\n ('makes', 30),\n ('tonight', 30),\n ('bédo', 29),\n ('nobody', 29),\n ('tah', 28),\n ('gangsta', 28),\n ('fight', 28),\n ('taff', 28),\n ('deep', 28),\n ('inside', 28),\n ('crew', 27),\n ('binks', 27),\n ('yah', 27),\n ('goodbye', 27),\n ('déter', 27),\n ('hear', 27),\n ('khey', 25),\n ('kush', 25),\n ('while', 25),\n ('cettes', 24),\n ('someone', 24),\n ('welcome', 24),\n ('vibe', 23),\n ('inspi', 23),\n ('téma', 22),\n ('dreams', 22),\n ('wanted', 22),\n ('everyday', 22),\n ('left', 22),\n ('sometimes', 22),\n ('niggas', 21),\n ('kho', 21),\n ('tieks', 21),\n ('wow', 21),\n ('coming', 21),\n ('lonely', 21),\n ('maybe', 21),\n ('cô', 20),\n ('quiero', 20),\n ('fucking', 20),\n ('huh', 20),\n ('everybody', 20),\n ('found', 20),\n ('tears', 20),\n ('oim', 19),\n ('bénéf', 19),\n ('might', 19),\n ('uh', 19),\n ('forever', 19),\n ('snap', 19),\n ('waiting', 19),\n ('sère', 18),\n ('keuf', 18),\n ('boloss', 18),\n ('showcase', 18),\n ('Versace', 18),\n ('ients', 18),\n ('selfie', 18),\n ('help', 18),\n ('hide', 18),\n ('floor', 18),\n ('pécho', 18),\n ('hass', 18),\n ('vamos', 18),\n ('guess', 18),\n ('gova', 17),\n ('bling', 17),\n ('blow', 17),\n ('fear', 17),\n ('didn', 17),\n ('loving', 17),\n ('enough', 17),\n ('daddy', 17),\n ('blah', 16),\n ('hebs', 16),\n ('gov', 16),\n ('réput', 16),\n ('above', 16),\n ('yesterday', 16),\n ('wouh', 16),\n ('couz', 16),\n ('loved', 16)]"
     },
     "execution_count": 13,
     "metadata": {},
     "output_type": "execute_result"
    }
   ],
   "source": [
    "toremove = []\n",
    "tolower = []\n",
    "for word, freq in notlower:\n",
    "    if word.lower() in allfreq:\n",
    "        if (freq / (allfreq[word.lower()]+freq)) > 0.75:\n",
    "            toremove.append(word)\n",
    "            # print(word, freq, allfreq[word.lower()])\n",
    "        else:\n",
    "            tolower.append((word, freq))\n",
    "\n",
    "for word in toremove:\n",
    "    del allfreq[word]\n",
    "\n",
    "for word, freq in tolower:\n",
    "    allfreq[word.lower()] += freq\n",
    "    del allfreq[word]\n",
    "\n",
    "# On aurait pu factoriser les tolower et toremove, mais c'est plus clair comme ça\n",
    "\n",
    "allfreq.most_common(100)\n",
    "\n"
   ],
   "metadata": {
    "collapsed": false,
    "ExecuteTime": {
     "end_time": "2023-05-04T08:47:09.369378490Z",
     "start_time": "2023-05-04T08:47:09.340743516Z"
    }
   }
  }
 ],
 "metadata": {
  "kernelspec": {
   "display_name": "Python 3",
   "language": "python",
   "name": "python3"
  },
  "language_info": {
   "codemirror_mode": {
    "name": "ipython",
    "version": 2
   },
   "file_extension": ".py",
   "mimetype": "text/x-python",
   "name": "python",
   "nbconvert_exporter": "python",
   "pygments_lexer": "ipython2",
   "version": "2.7.6"
  }
 },
 "nbformat": 4,
 "nbformat_minor": 0
}
