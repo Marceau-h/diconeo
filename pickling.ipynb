{
 "cells": [
  {
   "cell_type": "code",
   "execution_count": 2,
   "metadata": {
    "collapsed": true,
    "ExecuteTime": {
     "start_time": "2023-05-03T21:39:56.259312Z",
     "end_time": "2023-05-03T21:40:01.573881Z"
    }
   },
   "outputs": [],
   "source": [
    "import re\n",
    "\n",
    "import lyrics as ly\n",
    "import json\n",
    "from pathlib import Path\n",
    "import pandas as pd\n",
    "\n",
    "from spacy.lang.fr import French\n",
    "\n",
    "def tokenize(chaine):\n",
    "    return [token.text for token in tokenizer(chaine)]\n",
    "\n",
    "def preclean(chaine):\n",
    "    chaine = chaine.replace(u\"\\xa0\", \" \")\n",
    "    chaine = chaine.replace(u\"\\u2009\", \" \")\n",
    "    chaine = chaine.replace(u\"\\u200b\", \" \")\n",
    "    chaine = chaine.replace(u\"\\u200c\", \" \")\n",
    "    return chaine.replace(u\"\\u200d\", \" \")\n",
    "\n",
    "def clean_word(word):\n",
    "    try:\n",
    "        word = word.strip()\n",
    "    except:\n",
    "        print(word)\n",
    "        return\n",
    "    word = word.strip(\".,;“…’:!”?\\\"()[]{}«»×*\")\n",
    "    if re.fullmatch(r\"((\\\\x)|(\\\\u)|(\\\\n)|(x?\\d+)).*\", word):\n",
    "        return\n",
    "    if '\"-\"' in word:\n",
    "        return\n",
    "    if word == 'à-ç':\n",
    "        return\n",
    "    if re.fullmatch('(-\"?\\w+)|(\\w+\"?-)', word):\n",
    "        return\n",
    "    if re.fullmatch(r\"[^A-zÄ-ÿ]+\", word):\n",
    "        return\n",
    "    if re.fullmatch(r\"('+)|(\\++)\", word):\n",
    "        return\n",
    "    return word\n",
    "\n",
    "def find_neo(songs):\n",
    "    neologismes = set()\n",
    "\n",
    "    for song in songs:\n",
    "        if song.paroles:\n",
    "            paroles = tokenize(preclean(song.paroles))\n",
    "            for word in paroles:\n",
    "                word = clean_word(word)\n",
    "                if word:\n",
    "                    if word.lower() not in lexique_ultime:\n",
    "                        neologismes.add(word)\n",
    "\n",
    "    return neologismes\n",
    "\n",
    "def songs_and_neo(artiste):\n",
    "    if isinstance(artiste, str | Path):\n",
    "        artiste = ly.Artiste(artiste)\n",
    "    songs = artiste.songs\n",
    "    neologismes = find_neo(songs)\n",
    "    genres = artiste.genres\n",
    "\n",
    "    return songs, neologismes, genres\n",
    "\n",
    "nlp = French()\n",
    "\n",
    "tokenizer = nlp.tokenizer\n",
    "\n",
    "lexiques = Path(\"lexiques\").glob(\"*.json\")\n",
    "\n",
    "dict_lexiques = {\n",
    "    fic.stem: set(json.load(fic.open(encoding=\"utf-8\")))\n",
    "    for fic in lexiques\n",
    "}\n",
    "\n",
    "lexique_ultime = set.union(*dict_lexiques.values())"
   ]
  },
  {
   "cell_type": "code",
   "execution_count": 3,
   "outputs": [
    {
     "ename": "OSError",
     "evalue": "[Errno 22] Invalid argument",
     "output_type": "error",
     "traceback": [
      "\u001B[1;31m---------------------------------------------------------------------------\u001B[0m",
      "\u001B[1;31mOSError\u001B[0m                                   Traceback (most recent call last)",
      "Cell \u001B[1;32mIn[3], line 4\u001B[0m\n\u001B[0;32m      1\u001B[0m artistes_files \u001B[38;5;241m=\u001B[39m Path(\u001B[38;5;124m\"\u001B[39m\u001B[38;5;124mLyrics_all\u001B[39m\u001B[38;5;124m\"\u001B[39m)\u001B[38;5;241m.\u001B[39mglob(\u001B[38;5;124m\"\u001B[39m\u001B[38;5;124m*.json\u001B[39m\u001B[38;5;124m\"\u001B[39m)\n\u001B[0;32m      2\u001B[0m artistes_files \u001B[38;5;241m=\u001B[39m \u001B[38;5;28msorted\u001B[39m(artistes_files)\n\u001B[1;32m----> 4\u001B[0m dict_artistes \u001B[38;5;241m=\u001B[39m \u001B[43m{\u001B[49m\n\u001B[0;32m      5\u001B[0m \u001B[43m    \u001B[49m\u001B[43me\u001B[49m\u001B[43m \u001B[49m\u001B[43m:\u001B[49m\u001B[43m \u001B[49m\u001B[43msongs_and_neo\u001B[49m\u001B[43m(\u001B[49m\u001B[43me\u001B[49m\u001B[43m)\u001B[49m\n\u001B[0;32m      6\u001B[0m \u001B[43m    \u001B[49m\u001B[38;5;28;43;01mfor\u001B[39;49;00m\u001B[43m \u001B[49m\u001B[43me\u001B[49m\u001B[43m \u001B[49m\u001B[38;5;129;43;01min\u001B[39;49;00m\u001B[43m \u001B[49m\u001B[43martistes_files\u001B[49m\n\u001B[0;32m      7\u001B[0m \u001B[43m}\u001B[49m\n",
      "Cell \u001B[1;32mIn[3], line 5\u001B[0m, in \u001B[0;36m<dictcomp>\u001B[1;34m(.0)\u001B[0m\n\u001B[0;32m      1\u001B[0m artistes_files \u001B[38;5;241m=\u001B[39m Path(\u001B[38;5;124m\"\u001B[39m\u001B[38;5;124mLyrics_all\u001B[39m\u001B[38;5;124m\"\u001B[39m)\u001B[38;5;241m.\u001B[39mglob(\u001B[38;5;124m\"\u001B[39m\u001B[38;5;124m*.json\u001B[39m\u001B[38;5;124m\"\u001B[39m)\n\u001B[0;32m      2\u001B[0m artistes_files \u001B[38;5;241m=\u001B[39m \u001B[38;5;28msorted\u001B[39m(artistes_files)\n\u001B[0;32m      4\u001B[0m dict_artistes \u001B[38;5;241m=\u001B[39m {\n\u001B[1;32m----> 5\u001B[0m     e : \u001B[43msongs_and_neo\u001B[49m\u001B[43m(\u001B[49m\u001B[43me\u001B[49m\u001B[43m)\u001B[49m\n\u001B[0;32m      6\u001B[0m     \u001B[38;5;28;01mfor\u001B[39;00m e \u001B[38;5;129;01min\u001B[39;00m artistes_files\n\u001B[0;32m      7\u001B[0m }\n",
      "Cell \u001B[1;32mIn[2], line 57\u001B[0m, in \u001B[0;36msongs_and_neo\u001B[1;34m(artiste)\u001B[0m\n\u001B[0;32m     55\u001B[0m \u001B[38;5;28;01mdef\u001B[39;00m \u001B[38;5;21msongs_and_neo\u001B[39m(artiste):\n\u001B[0;32m     56\u001B[0m     \u001B[38;5;28;01mif\u001B[39;00m \u001B[38;5;28misinstance\u001B[39m(artiste, \u001B[38;5;28mstr\u001B[39m \u001B[38;5;241m|\u001B[39m Path):\n\u001B[1;32m---> 57\u001B[0m         artiste \u001B[38;5;241m=\u001B[39m \u001B[43mly\u001B[49m\u001B[38;5;241;43m.\u001B[39;49m\u001B[43mArtiste\u001B[49m\u001B[43m(\u001B[49m\u001B[43martiste\u001B[49m\u001B[43m)\u001B[49m\n\u001B[0;32m     58\u001B[0m     songs \u001B[38;5;241m=\u001B[39m artiste\u001B[38;5;241m.\u001B[39msongs\n\u001B[0;32m     59\u001B[0m     neologismes \u001B[38;5;241m=\u001B[39m find_neo(songs)\n",
      "File \u001B[1;32m~\\PycharmProjects\\diconeo\\lyrics.py:65\u001B[0m, in \u001B[0;36mArtiste.__init__\u001B[1;34m(self, name)\u001B[0m\n\u001B[0;32m     62\u001B[0m \u001B[38;5;28mself\u001B[39m\u001B[38;5;241m.\u001B[39malbums \u001B[38;5;241m=\u001B[39m \u001B[38;5;28mset\u001B[39m()\n\u001B[0;32m     63\u001B[0m \u001B[38;5;28mself\u001B[39m\u001B[38;5;241m.\u001B[39msongs \u001B[38;5;241m=\u001B[39m \u001B[38;5;28mset\u001B[39m()\n\u001B[1;32m---> 65\u001B[0m \u001B[38;5;28;43mself\u001B[39;49m\u001B[38;5;241;43m.\u001B[39;49m\u001B[43m_load\u001B[49m\u001B[43m(\u001B[49m\u001B[43m)\u001B[49m\n",
      "File \u001B[1;32m~\\PycharmProjects\\diconeo\\lyrics.py:81\u001B[0m, in \u001B[0;36mArtiste._load\u001B[1;34m(self)\u001B[0m\n\u001B[0;32m     78\u001B[0m \u001B[38;5;28mself\u001B[39m\u001B[38;5;241m.\u001B[39mprocess_songs(data[\u001B[38;5;124m\"\u001B[39m\u001B[38;5;124msongs\u001B[39m\u001B[38;5;124m\"\u001B[39m])\n\u001B[0;32m     79\u001B[0m \u001B[38;5;28mself\u001B[39m\u001B[38;5;241m.\u001B[39mprocess_albums()\n\u001B[1;32m---> 81\u001B[0m \u001B[38;5;28;43mself\u001B[39;49m\u001B[38;5;241;43m.\u001B[39;49m\u001B[43mprocess_date\u001B[49m\u001B[43m(\u001B[49m\u001B[43m)\u001B[49m\n",
      "File \u001B[1;32m~\\PycharmProjects\\diconeo\\lyrics.py:97\u001B[0m, in \u001B[0;36mArtiste.process_date\u001B[1;34m(self)\u001B[0m\n\u001B[0;32m     94\u001B[0m \u001B[38;5;28;01mif\u001B[39;00m \u001B[38;5;129;01mnot\u001B[39;00m \u001B[38;5;28mself\u001B[39m\u001B[38;5;241m.\u001B[39mdates:\n\u001B[0;32m     95\u001B[0m     \u001B[38;5;28;01mreturn\u001B[39;00m\n\u001B[1;32m---> 97\u001B[0m dates \u001B[38;5;241m=\u001B[39m \u001B[43m[\u001B[49m\u001B[43mdatetime\u001B[49m\u001B[38;5;241;43m.\u001B[39;49m\u001B[43mtimestamp\u001B[49m\u001B[43m(\u001B[49m\u001B[43mdate\u001B[49m\u001B[43m)\u001B[49m\u001B[43m \u001B[49m\u001B[38;5;28;43;01mfor\u001B[39;49;00m\u001B[43m \u001B[49m\u001B[43mdate\u001B[49m\u001B[43m \u001B[49m\u001B[38;5;129;43;01min\u001B[39;49;00m\u001B[43m \u001B[49m\u001B[38;5;28;43mself\u001B[39;49m\u001B[38;5;241;43m.\u001B[39;49m\u001B[43mdates\u001B[49m\u001B[43m \u001B[49m\u001B[38;5;28;43;01mif\u001B[39;49;00m\u001B[43m \u001B[49m\u001B[43mdate\u001B[49m\u001B[43m \u001B[49m\u001B[38;5;129;43;01mis\u001B[39;49;00m\u001B[43m \u001B[49m\u001B[38;5;129;43;01mnot\u001B[39;49;00m\u001B[43m \u001B[49m\u001B[38;5;28;43;01mNone\u001B[39;49;00m\u001B[43m]\u001B[49m\n\u001B[0;32m     99\u001B[0m \u001B[38;5;28;01mif\u001B[39;00m \u001B[38;5;129;01mnot\u001B[39;00m dates:\n\u001B[0;32m    100\u001B[0m     \u001B[38;5;66;03m# print(f\"{self.name} : all None\")\u001B[39;00m\n\u001B[0;32m    101\u001B[0m     \u001B[38;5;28;01mreturn\u001B[39;00m\n",
      "File \u001B[1;32m~\\PycharmProjects\\diconeo\\lyrics.py:97\u001B[0m, in \u001B[0;36m<listcomp>\u001B[1;34m(.0)\u001B[0m\n\u001B[0;32m     94\u001B[0m \u001B[38;5;28;01mif\u001B[39;00m \u001B[38;5;129;01mnot\u001B[39;00m \u001B[38;5;28mself\u001B[39m\u001B[38;5;241m.\u001B[39mdates:\n\u001B[0;32m     95\u001B[0m     \u001B[38;5;28;01mreturn\u001B[39;00m\n\u001B[1;32m---> 97\u001B[0m dates \u001B[38;5;241m=\u001B[39m [datetime\u001B[38;5;241m.\u001B[39mtimestamp(date) \u001B[38;5;28;01mfor\u001B[39;00m date \u001B[38;5;129;01min\u001B[39;00m \u001B[38;5;28mself\u001B[39m\u001B[38;5;241m.\u001B[39mdates \u001B[38;5;28;01mif\u001B[39;00m date \u001B[38;5;129;01mis\u001B[39;00m \u001B[38;5;129;01mnot\u001B[39;00m \u001B[38;5;28;01mNone\u001B[39;00m]\n\u001B[0;32m     99\u001B[0m \u001B[38;5;28;01mif\u001B[39;00m \u001B[38;5;129;01mnot\u001B[39;00m dates:\n\u001B[0;32m    100\u001B[0m     \u001B[38;5;66;03m# print(f\"{self.name} : all None\")\u001B[39;00m\n\u001B[0;32m    101\u001B[0m     \u001B[38;5;28;01mreturn\u001B[39;00m\n",
      "\u001B[1;31mOSError\u001B[0m: [Errno 22] Invalid argument"
     ]
    }
   ],
   "source": [
    "artistes_files = Path(\"Lyrics_all\").glob(\"*.json\")\n",
    "artistes_files = sorted(artistes_files)\n",
    "\n",
    "dict_artistes = {\n",
    "    e : songs_and_neo(e)\n",
    "    for e in artistes_files\n",
    "}"
   ],
   "metadata": {
    "collapsed": false,
    "ExecuteTime": {
     "end_time": "2023-05-02T09:23:25.625644401Z",
     "start_time": "2023-05-02T09:18:36.918197197Z"
    }
   }
  },
  {
   "cell_type": "code",
   "execution_count": null,
   "outputs": [],
   "source": [
    "e = ly.Artiste(artistes_files[457])\n",
    "print(e.genres, e.name)\n"
   ],
   "metadata": {
    "collapsed": false,
    "ExecuteTime": {
     "end_time": "2023-05-02T09:23:25.691131314Z",
     "start_time": "2023-05-02T09:23:25.667613246Z"
    }
   }
  },
  {
   "cell_type": "code",
   "execution_count": null,
   "outputs": [],
   "source": [
    "df = pd.DataFrame(dict_artistes).T\n",
    "df.to_pickle(\"df_artistes_raw.pkl\")"
   ],
   "metadata": {
    "collapsed": false,
    "ExecuteTime": {
     "end_time": "2023-05-02T09:23:27.265717965Z",
     "start_time": "2023-05-02T09:23:25.708279871Z"
    }
   }
  },
  {
   "cell_type": "code",
   "execution_count": null,
   "outputs": [],
   "source": [
    "neo = 50\n",
    "fr_songs = 20\n",
    "\n",
    "neover = df[df[1].apply(lambda x : len(x) > neo)]\n",
    "frver = df[df[0].apply(lambda x : len([e for e in x if e.lang == \"fr\"]) > fr_songs)]\n",
    "\n",
    "bothver = frver[frver.index.isin(neover.index)]\n",
    "\n",
    "neover.to_pickle(\"df_artistes_neo.pkl\")\n",
    "frver.to_pickle(\"df_artistes_fr.pkl\")\n",
    "bothver.to_pickle(\"df_artistes_neo_fr.pkl\")\n",
    "bothver.to_csv(\"df_artistes_neo_fr.csv\")\n",
    "bothver.to_json(\"df_artistes_neo_fr.json\")\n"
   ],
   "metadata": {
    "collapsed": false,
    "ExecuteTime": {
     "end_time": "2023-05-02T09:23:28.188047769Z",
     "start_time": "2023-05-02T09:23:27.281109786Z"
    }
   }
  },
  {
   "cell_type": "code",
   "execution_count": null,
   "outputs": [],
   "source": [
    "bothver\n"
   ],
   "metadata": {
    "collapsed": false,
    "ExecuteTime": {
     "end_time": "2023-05-02T09:23:28.223316501Z",
     "start_time": "2023-05-02T09:23:28.215944216Z"
    }
   }
  }
 ],
 "metadata": {
  "kernelspec": {
   "display_name": "Python 3",
   "language": "python",
   "name": "python3"
  },
  "language_info": {
   "codemirror_mode": {
    "name": "ipython",
    "version": 2
   },
   "file_extension": ".py",
   "mimetype": "text/x-python",
   "name": "python",
   "nbconvert_exporter": "python",
   "pygments_lexer": "ipython2",
   "version": "2.7.6"
  }
 },
 "nbformat": 4,
 "nbformat_minor": 0
}
